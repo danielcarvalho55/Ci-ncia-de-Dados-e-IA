{
  "metadata": {
    "kernelspec": {
      "name": "python",
      "display_name": "Python (Pyodide)",
      "language": "python"
    },
    "language_info": {
      "codemirror_mode": {
        "name": "python",
        "version": 3
      },
      "file_extension": ".py",
      "mimetype": "text/x-python",
      "name": "python",
      "nbconvert_exporter": "python",
      "pygments_lexer": "ipython3",
      "version": "3.8"
    },
    "colab": {
      "provenance": []
    }
  },
  "nbformat_minor": 5,
  "nbformat": 4,
  "cells": [
    {
      "id": "64f0ef47",
      "cell_type": "markdown",
      "source": "# Identificação do participante\n\nPreencha a célula abaixo com sua matrícula no formato F + 7 algarismos, sem dígito verificador.\n\nExemplo:\n\n    chaveF = \"F1234567\"",
      "metadata": {
        "id": "64f0ef47"
      }
    },
    {
      "id": "310fafc2",
      "cell_type": "code",
      "source": "chaveF = \"F2255527\"",
      "metadata": {
        "id": "310fafc2",
        "tags": [],
        "trusted": true
      },
      "outputs": [],
      "execution_count": 1
    },
    {
      "id": "b7ea7963",
      "cell_type": "markdown",
      "source": "# Orientações Gerais:\n\n1) Inclua sua matrícula na seção de Identificação, no início deste Notebook.\n\n2) **Link para envio:**\n\n- https://envio-academiabb.bb.com.br/\n\n    - **Atenção:** não serão acatadas outras formas de envio. O link acima permite acesso com senha de portais externos.\n\n3) Selecione o eixo I.A e Ciência de Dados ao enviar.\n\n**Nome do arquivo:** cada participante deverá baixar o presente arquivo e renomeá-lo de modo a conter:\n\n- A matrícula com F maiúsculo, sete algarismos e sem dígito (FXXXXXXX)\n\n- O eixo o qual a entrega se refere em letras minúsculas: ciencia_de_dados\n\n- O nome não deve conter espaços em branco. Substitua-os por “_”.\n\n- O versionamento será gerado automaticamente na subida do arquivo, por meio do timestamp do envio.\n\n    - Exemplo1: FXXXXXX_ciencia_de_dados.ipynb\n\n    - Exemplo2: FXXXXXX_ciencia_de_dados_v3.ipynb\n\n**Formato:** .ipynb\n\n- **Atenção:** não carregar nenhum outro formato de arquivo, pois será ignorado\n\n**Prazo final:** até às 18h (horário de Brasília) do dia 15/11/2024.\n\n## Requerimentos de versões\n\nPara construção do desafio em qualquer ambiente externo, recomendamos utilizar as versões de biblioteca abaixo especificadas:\n\n|Biblioteca|Versão|\n|---|---|\n|pandas|1.5.2 ou inferior|\n|numpy|1.23.5 ou inferior|\n|matplotlib|3.5.2 ou inferior|\n|imblearn|0.11.0|\n|seaborn|0.12.2 ou inferior|\n|scikit-learn|1.2.0 ou inferior|\n\nCaso necessite utilizar outras bibliotecas, verifique a versão disponível no [labblite](https://labblite.bb.com.br/) após importação da biblioteca, por meio da instrução:\n    \n    print(nome_biblioteca. __version__)\n    \n    Exemplo:\n        import pandas as pd\n        print(pd. __version__)\n\nCaso a biblioteca não esteja disponível no labblite, entre em contato com a comissão organizadora para verificar a possibilidade de utilização no script, sob o risco de gerar erros no código.\n\n## Pode:\n\n- Inserir células no notebook.\n\n    Obs: as células adicionadas após a seção do Boletim de Soluções não surtirão efeitos para fins de validação dos resultados dos exercícios propostos.\n\n- Fazer vários envios (quantos forem necessários).\n\n- Desenvolver em qualquer plataforma python:\n\n    - [Labblite](https://labblite.bb.com.br/)\n    \n    Atenção: consulte as versões homologadas pelo Banco no aplicativo <b>BB Verifica Software</b> antes de instalar qualquer aplicativo nas máquinas corporativas.\n\n## Não pode:\n\n- Alterar bases de dados.\n\n- Utilizar outros arquivos além dos disponibilizados.\n\n- Excluir linhas do Boletim de Soluções.\n\n- Apresentar erros no código.\n\n- Compartilhar arquivos/código.\n\n",
      "metadata": {
        "id": "b7ea7963",
        "tags": []
      }
    },
    {
      "id": "36198ce5",
      "cell_type": "markdown",
      "source": "# Desafio Ciência de Dados\n\nNos últimos tempos, o Banco do Brasil tem enfrentado um desafio crescente: a migração de clientes que optam por realizar a portabilidade de salário para outras instituições financeiras. Esta tendência de saída, conhecida internamente como \"Lob Vai\", não só reduz nossa base de clientes, mas também impacta diretamente nossa receita e reputação no mercado.\n\nPara enfrentar esse desafio de maneira eficaz, lançamos um desafio analítico com o objetivo de desenvolver um modelo preditivo que consiga identificar quais clientes estão mais propensos a migrar para outros bancos. O intuito é permitir que possamos agir proativamente, oferecendo estratégias de retenção personalizadas, melhorando nossos serviços e fortalecendo a relação com nossos clientes.\n\nPara este desafio, você receberá um arquivo CSV contendo dados abrangentes dos clientes, incluindo informações demográficas, comportamentais e transacionais, além de uma variável que indica se o cliente optou ou não pela portabilidade de salário. Seu objetivo é realizar uma análise completa, desde a visualização dos dados até a construção e validação do modelo preditivo.\n\nOs participantes devem entregar um Jupyter Notebook no formato .ipynb, documentando todas as etapas do processo de modelagem. Isso inclui:\n\n1. **Exploração e Visualização dos Dados:** Analisar e visualizar os dados para entender padrões e identificar possíveis relações entre as variáveis.\n\n2. **Pré-processamento dos Dados:** Limpeza e transformação dos dados, tratando valores ausentes, outliers e normalizando variáveis, se necessário.\n\n3. **Seleção e Construção do Modelo:** Escolha de algoritmos de aprendizado de máquina apropriados e construção do modelo preditivo.\n\n4. **Treinamento e Validação do Modelo:** Divisão dos dados em conjuntos de treino e teste, treinamento do modelo e avaliação de seu desempenho utilizando métricas adequadas.\n\n5. **Interpretação dos Resultados e Ajustes Finais:** Análise dos resultados, ajuste dos hiperparâmetros e validação do modelo para garantir sua eficácia e precisão.\n\nEste é um momento crucial para demonstrar suas habilidades analíticas e de modelagem preditiva em um contexto real e de grande importância para o Banco do Brasil. Estamos ansiosos para ver suas soluções inovadoras e eficazes que nos ajudarão a reter nossos valiosos clientes e garantir o crescimento sustentável do banco.\n\n# Metadados dos Atributos\n\n| Campo          | Descrição                                                                                                               | Tipo de Dado | Exemplo       |\n|----------------|-------------------------------------------------------------------------------------------------------------------------|--------------|---------------|\n| IDFR           | Número identificador do cliente/Identificador único do cliente.                                                         | Numérico     | 1234          |\n| DT_REF         | Data de referência do registro.                                                                                         | Data         | 2024-07-22    |\n| IN_EVS         | Indicador de evasão (Código Indicador de evasão do cliente).                                                            | Binário      | 1             |\n| EST_CVL        | Estado civil do cliente.                                                                                                | Categórico   | Casado        |\n| CLS_GNR        | Classificação de gênero do cliente.                                                                                     | Categórico   | F             |\n| RGAO_GEO       | Região geográfica do cliente.                                                                                           | Categórico   | Sudeste       |\n| SGM_CLI        | Código do Perfil de Segmentação do Cliente Categorizada.                                                                | Categórico   | Varejo        |\n| VL_SLR_MSL     | Valor do salário mensal do cliente.                                                                                     | Numérico     | 3500.50       |\n| QT_PRD_COM_BB  | Quantidade de produtos do cliente com o Banco do Brasil.                                                                | Numérico     | 3             |\n| TMP_RLC_COM_BB | Tempo de relacionamento com o Banco do Brasil em anos.                                                                  | Numérico     | 5             |\n| CTGR_MC_EPGR   | Categoria de Mercado do Empregador.                                                                                     | Categórico   | Atacado       |\n| RAMO_MC_EPGR   | Ramo de Mercado do Empregador.                                                                                          | Categórico   | Comércio      |\n| NM_CTRA        | Nome da Carteira do cliente no domínio do Banco do Brasil.                                                              | Categórico   | Contrato_1234 |\n| VL_CST_SVR     | Valor do custo de servir de cada cliente. Custo de interação direta e indireta que o cliente realiza com o BB.          | Numérico     | 150.75        |\n| FXA_IDD        | Código da Faixa de Idade do Cliente. Intervalos de idade, em anos, para agrupamento de clientes em diferentes gerações. | Categórico   | 20-29         |\n| QT_RCLM_CLI    | Quantidade de reclamações feitas pelo cliente no último trimestre.                                                      | Numérico     | 2             |\n| PRI_ATDT_CLI   | Indicador de priorização de atendimento. Exemplo: 1 = Priorizado; 0 = Não Priorizado.                                   | Numérico     | 1             |",
      "metadata": {
        "id": "36198ce5"
      }
    },
    {
      "id": "04badf48",
      "cell_type": "markdown",
      "source": "# Importar bibliotecas\n\nUse esse espaço para importar as bibliotecas necessárias para execução do seu notebook.",
      "metadata": {
        "id": "04badf48",
        "tags": []
      }
    },
    {
      "id": "67f3a31f-33d0-4876-b06c-d5d7f3d79d08",
      "cell_type": "code",
      "source": "%pip install imbalanced-learn",
      "metadata": {
        "trusted": true
      },
      "outputs": [],
      "execution_count": 2
    },
    {
      "id": "acb74ee3-845f-4fb5-8c79-2ac89bef470e",
      "cell_type": "code",
      "source": "import pandas as pd\nimport numpy as np\nfrom sklearn.model_selection import train_test_split\nfrom sklearn.linear_model import LogisticRegression\nfrom sklearn.tree import DecisionTreeClassifier\nfrom sklearn.svm import SVC\nfrom sklearn.metrics import f1_score, confusion_matrix\nfrom imblearn.over_sampling import SMOTE",
      "metadata": {
        "id": "acb74ee3-845f-4fb5-8c79-2ac89bef470e",
        "trusted": true
      },
      "outputs": [],
      "execution_count": 3
    },
    {
      "id": "6e6cba28",
      "cell_type": "markdown",
      "source": "# Exercício 1 - Importando os dados\n\nCriar um DataFrame chamado **exercicio1** com os seguintes atributos:\n\n|  | Atributo       | Descrição                             | Formato        | Tipo de Dado |\n|:-|:---------------|:--------------------------------------|:---------------|:-------------|\n|01| IDFR           | Identificador                         | int64          | Identificador|\n|02| DT_REF         | Data de Referência                    | datetime64     | Data         |\n|03| IN_EVS         | Indicador de Evasão                   | float64        | Binário      |\n|04| EST_CVL        | Estado Civil                          | object         | Categórico   |\n|05| CLS_GNR        | Classificação de Gênero               | object         | Categórico   |\n|06| RGAO_GEO       | Região Geográfica                     | object         | Categórico   |\n|07| SGM_CLI        | Segmento do Cliente                   | float64        | Categórico   |\n|08| VL_SLR_MSL     | Valor do Salário Mensal               | float64        | Numérico     |\n|09| QT_PRD_COM_BB  | Quantidade de Produtos com BB         | float64        | Numérico     |\n|10| TMP_RLC_COM_BB | Tempo de relacionamento com BB        | float64        | Numérico     |\n|11| CTGR_MC_EPGR   | Categoria de Mercado do Empregador    | object         | Categórico   |\n|12| RAMO_MC_EPGR   | Ramo de Mercado do Empregador         | object         | Categórico   |\n|13| NM_CTRA        | Nome da Carteira                      | object         | Categórico   |\n|14| VL_CST_SVR     | Valor do Custo de Servir              | float64        | Numérico     |\n|15| FXA_IDD        | Faixa de Idade                        | object         | Categórico   |\n|16| QT_RCLM_CLI    | Quantidade de Reclamações do Cliente  | float64        | Numérico     |\n|17| PRI_ATDT_CLI   | Priorização do Atendimento do Cliente | float64        | Binário      |\n\n**Regra 1:** Transforme o Atributo de Data de Referência em Datetime.\n\n\nAtenção, o arquivo de dados será fornecido junto com esse caderno. Lembre-se de verificar o caminho para a importação dos dados. **Não altere a ordem das colunas obtidas**.\n    \nOs dados devem manter a estrutura da pasta, ou seja, o arquivo deve estar em uma pasta chamada `bases` na mesma pasta que o caderno do desafio. Por exemplo, se o projeto estiver sendo desenvolvido na pasta `desafio`, o caderno deve estar na pasta `desafio`, e dentro dessa pasta, deve haver outra chamada `bases` contendo o arquivo CSV.",
      "metadata": {
        "id": "6e6cba28"
      }
    },
    {
      "id": "53575799-dd9a-487d-b7dc-a067a4a2e17f",
      "cell_type": "code",
      "source": "df1 = pd.read_csv('bases/ds_dataset_001.csv', sep = ';')",
      "metadata": {
        "id": "53575799-dd9a-487d-b7dc-a067a4a2e17f",
        "trusted": true
      },
      "outputs": [],
      "execution_count": 4
    },
    {
      "id": "cd42c8af-d14a-452d-8701-1f1defe9b052",
      "cell_type": "code",
      "source": "exercicio1 = df1.copy()\nexercicio1['DT_REF'] = pd.to_datetime(exercicio1['DT_REF'], yearfirst = True)\nexercicio1['IDFR'] = exercicio1['IDFR'].astype(\"int64\")",
      "metadata": {
        "trusted": true
      },
      "outputs": [],
      "execution_count": 5
    },
    {
      "id": "942e860c",
      "cell_type": "markdown",
      "source": "# Exercício 2 - Qualidade dos dados e identificação de valores nulos\nCriar um DataFrame Pandas chamado <b>exercicio2</b> com o percentual de nulos por coluna. Arredonde os valores em <b>três casas decimais</b>. O DataFrame deve conter dois atributos 'Atributo' e 'Percentual_Nulos'. Como o exemplo a seguir:\n\n| Atributo       | Percentual_Nulos |\n|----------------|------------------|\n| IDFR           | 0.0              |\n| DT_REF         | 0.0              |\n| IN_EVS         | 0.0              |\n| EST_CVL        | 0.122            |\n| CLS_GNR        | 0.203            |\n| RGAO_GEO       | 0.031            |\n| SGM_CLI        | 0.034            |\n| VL_SLR_MSL     | 0.0              |\n| QT_PRD_COM_BB  | 0.0              |\n| TMP_RLC_COM_BB | 0.342            |\n| CTGR_MC_EPGR   | 0.0              |\n| RAMO_MC_EPGR   | 0.0              |\n| NM_CTRA        | 0.0              |\n| VL_CST_SVR     | 0.0              |\n| FXA_IDD        | 0.0              |\n| QT_RCLM_CLI    | 0.0              |\n| PRI_ATDT_CLI   | 0.0              |\n\n**Obs.:** Os valores do exemplo são fícticios. <b>Lembrando que os valores não devem ser maiores que 1</b>.\n\n **Não altere a ordem das colunas obtidas**.\n\n**Regra 1:** Verificar o percentual de nulos por colunas\n\n**Regra 2:** Ao arredondar para o número de casas decimais desejado, utilizar a função `round()`, passando apenas como argumento o DataFrame a ser arredondado e o número de casas decimais.",
      "metadata": {
        "id": "942e860c"
      }
    },
    {
      "id": "06d95e78-a44e-4fa1-ad76-0c223daddf08",
      "cell_type": "code",
      "source": "nulos = exercicio1.isna().sum().reset_index()\nnulos['total'] = nulos[0].apply(lambda x: 8156)\nnulos['percentual'] = round(nulos[0]/nulos['total'], 3)",
      "metadata": {
        "id": "06d95e78-a44e-4fa1-ad76-0c223daddf08",
        "trusted": true
      },
      "outputs": [],
      "execution_count": 6
    },
    {
      "id": "76b292ae-1bda-470d-a7b3-1685e9323c0f",
      "cell_type": "code",
      "source": "exercicio2 = pd.DataFrame()\nexercicio2['Atributo'] = nulos['index']\nexercicio2['Percentual_Nulos'] = nulos['percentual']\nexercicio2",
      "metadata": {
        "trusted": true
      },
      "outputs": [
        {
          "execution_count": 7,
          "output_type": "execute_result",
          "data": {
            "text/plain": "          Atributo  Percentual_Nulos\n0             IDFR             0.000\n1           DT_REF             0.000\n2           IN_EVS             0.204\n3          EST_CVL             0.204\n4          CLS_GNR             0.204\n5         RGAO_GEO             0.204\n6          SGM_CLI             0.204\n7       VL_SLR_MSL             0.204\n8    QT_PRD_COM_BB             0.086\n9   TMP_RLC_COM_BB             0.086\n10    CTGR_MC_EPGR             0.086\n11    RAMO_MC_EPGR             0.086\n12         NM_CTRA             0.000\n13      VL_CST_SVR             0.086\n14         FXA_IDD             0.204\n15     QT_RCLM_CLI             0.861\n16    PRI_ATDT_CLI             0.204",
            "text/html": "<div>\n<style scoped>\n    .dataframe tbody tr th:only-of-type {\n        vertical-align: middle;\n    }\n\n    .dataframe tbody tr th {\n        vertical-align: top;\n    }\n\n    .dataframe thead th {\n        text-align: right;\n    }\n</style>\n<table border=\"1\" class=\"dataframe\">\n  <thead>\n    <tr style=\"text-align: right;\">\n      <th></th>\n      <th>Atributo</th>\n      <th>Percentual_Nulos</th>\n    </tr>\n  </thead>\n  <tbody>\n    <tr>\n      <th>0</th>\n      <td>IDFR</td>\n      <td>0.000</td>\n    </tr>\n    <tr>\n      <th>1</th>\n      <td>DT_REF</td>\n      <td>0.000</td>\n    </tr>\n    <tr>\n      <th>2</th>\n      <td>IN_EVS</td>\n      <td>0.204</td>\n    </tr>\n    <tr>\n      <th>3</th>\n      <td>EST_CVL</td>\n      <td>0.204</td>\n    </tr>\n    <tr>\n      <th>4</th>\n      <td>CLS_GNR</td>\n      <td>0.204</td>\n    </tr>\n    <tr>\n      <th>5</th>\n      <td>RGAO_GEO</td>\n      <td>0.204</td>\n    </tr>\n    <tr>\n      <th>6</th>\n      <td>SGM_CLI</td>\n      <td>0.204</td>\n    </tr>\n    <tr>\n      <th>7</th>\n      <td>VL_SLR_MSL</td>\n      <td>0.204</td>\n    </tr>\n    <tr>\n      <th>8</th>\n      <td>QT_PRD_COM_BB</td>\n      <td>0.086</td>\n    </tr>\n    <tr>\n      <th>9</th>\n      <td>TMP_RLC_COM_BB</td>\n      <td>0.086</td>\n    </tr>\n    <tr>\n      <th>10</th>\n      <td>CTGR_MC_EPGR</td>\n      <td>0.086</td>\n    </tr>\n    <tr>\n      <th>11</th>\n      <td>RAMO_MC_EPGR</td>\n      <td>0.086</td>\n    </tr>\n    <tr>\n      <th>12</th>\n      <td>NM_CTRA</td>\n      <td>0.000</td>\n    </tr>\n    <tr>\n      <th>13</th>\n      <td>VL_CST_SVR</td>\n      <td>0.086</td>\n    </tr>\n    <tr>\n      <th>14</th>\n      <td>FXA_IDD</td>\n      <td>0.204</td>\n    </tr>\n    <tr>\n      <th>15</th>\n      <td>QT_RCLM_CLI</td>\n      <td>0.861</td>\n    </tr>\n    <tr>\n      <th>16</th>\n      <td>PRI_ATDT_CLI</td>\n      <td>0.204</td>\n    </tr>\n  </tbody>\n</table>\n</div>"
          },
          "metadata": {}
        }
      ],
      "execution_count": 7
    },
    {
      "id": "620bf785",
      "cell_type": "markdown",
      "source": "# Exercício 3- Qualidade dos dados e tratamento de nulos\nCriar um DataFrame Pandas chamado <b>exercicio3</b> retirando as observações em que o alvo (ou target), Indicador de evasão, é nula, ou seja, será um filtro do DataFrame do Exercício 1.\n\n**Regra 1:** Remover as linhas em que Indicador de evasão é <b>nulo</b>.\n\nSegue abaixo exemplo do DataFrame com dados fícticios:\n\n|   IDFR | DT_REF              |   IN_EVS | EST_CVL   | CLS_GNR   | RGAO_GEO     |   SGM_CLI |   VL_SLR_MSL |   QT_PRD_COM_BB |   TMP_RLC_COM_BB | CTGR_MC_EPGR   | RAMO_MC_EPGR   | NM_CTRA   |   VL_CST_SVR | FXA_IDD   |   QT_RCLM_CLI |   PRI_ATDT_CLI |\n|-------:|:--------------------|---------:|:----------|:----------|:-------------|----------:|-------------:|----------------:|-----------------:|:---------------|:---------------|:----------|-------------:|:----------|--------------:|---------------:|\n|      1 | 2023-12-01 00:00:00 |        0 | SOLTEIRO  | M         | SUDESTE      |         3 |         1600 |               2 |               12 | ATACADO        | INDUSTRIA      | NEGOCIAL  |        28.00 | 30-39     |             0 |              0 |\n|      2 | 2023-10-01 00:00:00 |        0 | SOLTEIRO  | M         | SUL          |         1 |         2400 |               2 |               10 | ATACADO        | INDUSTRIA      | NEGOCIAL  |        39.00 | 30-39     |             0 |              0 |\n|      3 | 2023-11-01 00:00:00 |        0 | SOLTEIRO  | M         | SUDESTE      |         3 |         3200 |              10 |               12 | VAREJO         | SERVICOS       | NEGOCIAL  |        81.00 | 30-39     |             0 |              0 |\n|      5 | 2023-11-01 00:00:00 |        1 | SOLTEIRO  | F         | SUL          |         4 |         5000 |               2 |                2 | ATACADO        | INDUSTRIA      | NEGOCIAL  |       100.00 | 30-39     |             0 |              0 |\n|      6 | 2023-10-01 00:00:00 |        0 | SOLTEIRO  | M         | CENTRO-OESTE |         2 |         5100 |              10 |                8 | ATACADO        | INDUSTRIA      | NEGOCIAL  |       100.00 | 30-39     |             0 |              0 |\n\n\n",
      "metadata": {
        "id": "620bf785"
      }
    },
    {
      "id": "762e2a64-431f-413a-b58f-2a8cb3f60e68",
      "cell_type": "code",
      "source": "evasao_nulos = exercicio1['IN_EVS'].isna()\nlista_drop = exercicio1[evasao_nulos].index.values.tolist()",
      "metadata": {
        "id": "762e2a64-431f-413a-b58f-2a8cb3f60e68",
        "trusted": true
      },
      "outputs": [],
      "execution_count": 8
    },
    {
      "id": "0b6a297a-7cc7-424e-a73a-f21ee53756d4",
      "cell_type": "code",
      "source": "exercicio3 = exercicio1.drop(index = lista_drop, inplace = False)",
      "metadata": {
        "trusted": true
      },
      "outputs": [],
      "execution_count": 9
    },
    {
      "id": "570c8c15",
      "cell_type": "markdown",
      "source": "# Exercício 4 - Obtenção das informações de estatística descritiva\n\nA partir do DataFrame criado no <b>exercicio3</b>, crie um DataFrame Pandas chamado <b>exercicio4</b> com as informações de Estatística Descritiva das <b>Variáveis Quantitativas Contínuas</b>. Arredonde os valores em <b>duas casas decimais.</b>\n\nAs Estatísticas Descritivas serão o Contador, Média, Desvio Padrão, Mínimo, 1º Quartil, Mediana, 3º Quartil e Máximo.\n\nO DataFrame deve ter os atributos com os nomes da colunas e seu índice (index) deve ser 'count', 'mean', 'std', 'min', '25%', '50%', '75%', 'max'. Segue um exemplo do DataFrame:\n\n|       |   VL_SLR_MSL |   QT_PRD_COM_BB |   TMP_RLC_COM_BB |   VL_CST_SVR |   QT_RCLM_CLI |\n|:------|-------------:|----------------:|-----------------:|-------------:|--------------:|\n| count |      ?       |      ?          |       ?          |    ?         |    ?          |\n| mean  |      ?       |      ?          |       ?          |    ?         |    ?          |\n| std   |      ?       |      ?          |       ?          |    ?         |    ?          |\n| min   |      ?       |      ?          |       ?          |    ?         |    ?          |\n| 25%   |      ?       |      ?          |       ?          |    ?         |    ?          |\n| 50%   |      ?       |      ?          |       ?          |    ?         |    ?          |\n| 75%   |      ?       |      ?          |       ?          |    ?         |    ?          |\n| max   |      ?       |      ?          |       ?          |    ?         |    ?          |\n\n**Regra 1:** Ao arredondar para o número de casas decimais desejado, utilizar a função `round()`, passando apenas como argumento o DataFrame a ser arredondado e o número de casas decimais.",
      "metadata": {
        "id": "570c8c15"
      }
    },
    {
      "id": "1edf09af-ab2f-4aab-a005-12515dbd40da",
      "cell_type": "code",
      "source": "exercicio4 = pd.DataFrame()\nexercicio4['VL_SLR_MSL'] = round(exercicio3['VL_SLR_MSL'].describe(), 2)\nexercicio4['QT_PRD_COM_BB'] = round(exercicio3['QT_PRD_COM_BB'].describe(), 2)\nexercicio4['TMP_RLC_COM_BB'] = round(exercicio3['TMP_RLC_COM_BB'].describe(), 2)\nexercicio4['VL_CST_SVR'] = round(exercicio3['VL_CST_SVR'].describe(), 2)\nexercicio4['QT_RCLM_CLI'] = round(exercicio3['QT_RCLM_CLI'].describe(), 2)\nexercicio4",
      "metadata": {
        "id": "1edf09af-ab2f-4aab-a005-12515dbd40da",
        "trusted": true
      },
      "outputs": [
        {
          "execution_count": 10,
          "output_type": "execute_result",
          "data": {
            "text/plain": "       VL_SLR_MSL  QT_PRD_COM_BB  TMP_RLC_COM_BB  VL_CST_SVR  QT_RCLM_CLI\ncount     6496.00        6496.00         6496.00     6496.00      1134.00\nmean      3451.62           7.67           10.25       63.03         2.21\nstd       2241.16           5.61           10.45       67.82         6.11\nmin          0.00           0.00            0.00        0.00         0.00\n25%       1800.00           4.00            1.00       14.59         0.00\n50%       2770.00           6.00            9.00       33.02         0.00\n75%       4650.00           9.00           16.00       91.60         1.00\nmax      10000.00          67.00           73.00      299.78        55.00",
            "text/html": "<div>\n<style scoped>\n    .dataframe tbody tr th:only-of-type {\n        vertical-align: middle;\n    }\n\n    .dataframe tbody tr th {\n        vertical-align: top;\n    }\n\n    .dataframe thead th {\n        text-align: right;\n    }\n</style>\n<table border=\"1\" class=\"dataframe\">\n  <thead>\n    <tr style=\"text-align: right;\">\n      <th></th>\n      <th>VL_SLR_MSL</th>\n      <th>QT_PRD_COM_BB</th>\n      <th>TMP_RLC_COM_BB</th>\n      <th>VL_CST_SVR</th>\n      <th>QT_RCLM_CLI</th>\n    </tr>\n  </thead>\n  <tbody>\n    <tr>\n      <th>count</th>\n      <td>6496.00</td>\n      <td>6496.00</td>\n      <td>6496.00</td>\n      <td>6496.00</td>\n      <td>1134.00</td>\n    </tr>\n    <tr>\n      <th>mean</th>\n      <td>3451.62</td>\n      <td>7.67</td>\n      <td>10.25</td>\n      <td>63.03</td>\n      <td>2.21</td>\n    </tr>\n    <tr>\n      <th>std</th>\n      <td>2241.16</td>\n      <td>5.61</td>\n      <td>10.45</td>\n      <td>67.82</td>\n      <td>6.11</td>\n    </tr>\n    <tr>\n      <th>min</th>\n      <td>0.00</td>\n      <td>0.00</td>\n      <td>0.00</td>\n      <td>0.00</td>\n      <td>0.00</td>\n    </tr>\n    <tr>\n      <th>25%</th>\n      <td>1800.00</td>\n      <td>4.00</td>\n      <td>1.00</td>\n      <td>14.59</td>\n      <td>0.00</td>\n    </tr>\n    <tr>\n      <th>50%</th>\n      <td>2770.00</td>\n      <td>6.00</td>\n      <td>9.00</td>\n      <td>33.02</td>\n      <td>0.00</td>\n    </tr>\n    <tr>\n      <th>75%</th>\n      <td>4650.00</td>\n      <td>9.00</td>\n      <td>16.00</td>\n      <td>91.60</td>\n      <td>1.00</td>\n    </tr>\n    <tr>\n      <th>max</th>\n      <td>10000.00</td>\n      <td>67.00</td>\n      <td>73.00</td>\n      <td>299.78</td>\n      <td>55.00</td>\n    </tr>\n  </tbody>\n</table>\n</div>"
          },
          "metadata": {}
        }
      ],
      "execution_count": 10
    },
    {
      "id": "8cc3d448",
      "cell_type": "markdown",
      "source": "# Exercício 5 - Agrupamentos dos dados\n\nA partir do DataFrame criado no <b>exercicio3</b>, crie um DataFrame Pandas chamado <b>exercicio5</b> com a frequência absoluta da coluna alvo, Indicador de evasão.\n\nO DataFrame deve conter uma coluna com nome de Indicador de evasão e índice (index) '0' e '1'. Segue abaixo um exemplo:\n\n|    |   IN_EVS |\n|---:|---------:|\n|  0 |     ?    |\n|  1 |     ?    |\n\n",
      "metadata": {
        "id": "8cc3d448"
      }
    },
    {
      "id": "e8bf77c5-364c-4e51-a76f-4d37a1670995",
      "cell_type": "code",
      "source": "exercicio5 = exercicio3['IN_EVS'].value_counts().rename_axis('unique_values').reset_index(name='IN_EVS')\nexercicio5 = exercicio5.drop(columns = ['unique_values'])",
      "metadata": {
        "id": "e8bf77c5-364c-4e51-a76f-4d37a1670995",
        "trusted": true
      },
      "outputs": [],
      "execution_count": 11
    },
    {
      "id": "245dd1d5",
      "cell_type": "markdown",
      "source": "# Exercício 6 - Obtendo dados de correlação\n\nA partir do <b>exercicio3</b>, crie um DataFrame chamado <b>exercicio6</b> com as correlações de pearson da <b>variáveis quantitativas contínuas</b>. Arredonde os valores em <b>duas casas decimais.</b>\n\nO DataFrame deve ter as colunas:\n- Valor do Salário Mensal\n- Quantidade de Produtos com o BB\n- Tempo de Relacionamento com o BB\n- Valor do Custo de Servir\n- Quantidade de Reclamações do Cliente\n\nO índice (index) deve conter os mesmos nomes dos atributos mencionados acima. Segue abaixo um exemplo:\n\n|                |   VL_SLR_MSL |   QT_PRD_COM_BB |   TMP_RLC_COM_BB |   VL_CST_SVR |   QT_RCLM_CLI |\n|:---------------|-------------:|----------------:|-----------------:|-------------:|--------------:|\n| VL_SLR_MSL     |   ?          |  ?              |    ?             |   ?          |   ?           |\n| QT_PRD_COM_BB  |   ?          |  ?              |    ?             |   ?          |   ?           |\n| TMP_RLC_COM_BB |   ?          |  ?              |    ?             |   ?          |   ?           |\n| VL_CST_SVR     |   ?          |  ?              |    ?             |   ?          |   ?           |\n| QT_RCLM_CLI    |   ?          |  ?              |    ?             |   ?          |   ?           |\n",
      "metadata": {
        "id": "245dd1d5"
      }
    },
    {
      "id": "253ecd46-635e-4c02-8d03-cc16ee0d762b",
      "cell_type": "code",
      "source": "exercicio6 = round(exercicio3[['VL_SLR_MSL', 'QT_PRD_COM_BB', 'TMP_RLC_COM_BB', 'VL_CST_SVR', 'QT_RCLM_CLI']].corr(method = 'pearson'), 2)\nexercicio6",
      "metadata": {
        "id": "253ecd46-635e-4c02-8d03-cc16ee0d762b",
        "trusted": true
      },
      "outputs": [
        {
          "execution_count": 12,
          "output_type": "execute_result",
          "data": {
            "text/plain": "                VL_SLR_MSL  QT_PRD_COM_BB  TMP_RLC_COM_BB  VL_CST_SVR  \\\nVL_SLR_MSL            1.00           0.35            0.38        0.34   \nQT_PRD_COM_BB         0.35           1.00            0.55        0.54   \nTMP_RLC_COM_BB        0.38           0.55            1.00        0.41   \nVL_CST_SVR            0.34           0.54            0.41        1.00   \nQT_RCLM_CLI          -0.00          -0.04            0.02       -0.01   \n\n                QT_RCLM_CLI  \nVL_SLR_MSL            -0.00  \nQT_PRD_COM_BB         -0.04  \nTMP_RLC_COM_BB         0.02  \nVL_CST_SVR            -0.01  \nQT_RCLM_CLI            1.00  ",
            "text/html": "<div>\n<style scoped>\n    .dataframe tbody tr th:only-of-type {\n        vertical-align: middle;\n    }\n\n    .dataframe tbody tr th {\n        vertical-align: top;\n    }\n\n    .dataframe thead th {\n        text-align: right;\n    }\n</style>\n<table border=\"1\" class=\"dataframe\">\n  <thead>\n    <tr style=\"text-align: right;\">\n      <th></th>\n      <th>VL_SLR_MSL</th>\n      <th>QT_PRD_COM_BB</th>\n      <th>TMP_RLC_COM_BB</th>\n      <th>VL_CST_SVR</th>\n      <th>QT_RCLM_CLI</th>\n    </tr>\n  </thead>\n  <tbody>\n    <tr>\n      <th>VL_SLR_MSL</th>\n      <td>1.00</td>\n      <td>0.35</td>\n      <td>0.38</td>\n      <td>0.34</td>\n      <td>-0.00</td>\n    </tr>\n    <tr>\n      <th>QT_PRD_COM_BB</th>\n      <td>0.35</td>\n      <td>1.00</td>\n      <td>0.55</td>\n      <td>0.54</td>\n      <td>-0.04</td>\n    </tr>\n    <tr>\n      <th>TMP_RLC_COM_BB</th>\n      <td>0.38</td>\n      <td>0.55</td>\n      <td>1.00</td>\n      <td>0.41</td>\n      <td>0.02</td>\n    </tr>\n    <tr>\n      <th>VL_CST_SVR</th>\n      <td>0.34</td>\n      <td>0.54</td>\n      <td>0.41</td>\n      <td>1.00</td>\n      <td>-0.01</td>\n    </tr>\n    <tr>\n      <th>QT_RCLM_CLI</th>\n      <td>-0.00</td>\n      <td>-0.04</td>\n      <td>0.02</td>\n      <td>-0.01</td>\n      <td>1.00</td>\n    </tr>\n  </tbody>\n</table>\n</div>"
          },
          "metadata": {}
        }
      ],
      "execution_count": 12
    },
    {
      "id": "2df1a221",
      "cell_type": "markdown",
      "source": "# Exercício 7 - Criação de novas variáveis\n\nCrie um DataFrame Pandas chamado <b>exercicio7</b> com duas novas variáveis. Para criar o DataFrame utilize o <b>exercicio3</b> como base.\n\nSegue abaixo a descrição de cada variável:\n\n| Atributo | Descrição | Regra de apuração |\n|:---------|:----------|:------------------|\n|CD_IN_RCLM_CLI|Código Indicador de Reclamações do Cliente|Se a quantidade de Reclamações do Cliente for < 1 ou ausente, o valor será 0. Caso contrário, o valor será 1.|\n|CD_IN_SLR_MIN|Código Indicador de Salário Mínimo|Se o Valor do Salário Mensal for menor que R$ 1.412,00 (Valor do salário mínimo referente ao ano de 2024), o valor será 1. Caso contrário, o valor será 0.|\n\n\n\nSegue abaixo como seria o DataFrame com dados fícticios:\n\n|   IDFR | DT_REF              |   IN_EVS | EST_CVL   | CLS_GNR   | RGAO_GEO     |   SGM_CLI |   VL_SLR_MSL |   QT_PRD_COM_BB |   TMP_RLC_COM_BB | CTGR_MC_EPGR   | RAMO_MC_EPGR   | NM_CTRA   |   VL_CST_SVR | FXA_IDD   |   QT_RCLM_CLI |   PRI_ATDT_CLI |   CD_IN_RCLM_CLI |   CD_IN_SLR_MIN |\n|-------:|:--------------------|---------:|:----------|:----------|:-------------|----------:|-------------:|----------------:|-----------------:|:---------------|:---------------|:----------|-------------:|:----------|--------------:|---------------:|-----------------:|----------------:|\n|      1 | 2023-12-01 00:00:00 |        0 | SOLTEIRO  | M         | SUDESTE      |         3 |         1500 |               2 |               12 | ATACADO        | INDUSTRIA      | NEGOCIAL  |        28.00 | 30-39     |             0 |              0 |                0 |               0 |\n|      2 | 2023-10-01 00:00:00 |        0 | SOLTEIRO  | M         | SUL          |         1 |         2400 |               2 |               10 | ATACADO        | INDUSTRIA      | NEGOCIAL  |        39.00 | 30-39     |             0 |              0 |                0 |               0 |\n|      3 | 2023-11-01 00:00:00 |        0 | SOLTEIRO  | M         | SUDESTE      |         3 |         3200 |              10 |               12 | VAREJO         | SERVICOS       | NEGOCIAL  |        81.00 | 30-39     |             0 |              0 |                0 |               0 |\n|      5 | 2023-11-01 00:00:00 |        1 | SOLTEIRO  | F         | SUL          |         4 |         500 |               2 |                2 | ATACADO        | INDUSTRIA      | NEGOCIAL  |       100.00 | 30-39     |             0 |              0 |                0 |               1 |\n|      6 | 2023-10-01 00:00:00 |        0 | SOLTEIRO  | M         | CENTRO-OESTE |         2 |         1000 |              10 |                8 | ATACADO        | INDUSTRIA      | NEGOCIAL  |       100.00 | 30-39     |             0 |              0 |                0 |               1 |\n\n",
      "metadata": {
        "id": "2df1a221"
      }
    },
    {
      "id": "b3fcccf2-d01c-40b6-8c70-8830a8126e29",
      "cell_type": "code",
      "source": "exercicio7 = exercicio3.copy()\nexercicio7['CD_IN_RCLM_CLI'] = exercicio7['QT_RCLM_CLI'].apply(lambda x: 1 if x >= 1 else 0)\nexercicio7['CD_IN_SLR_MIN'] = exercicio7['VL_SLR_MSL'].apply(lambda x: 1 if x < 1412 else 0)",
      "metadata": {
        "id": "b3fcccf2-d01c-40b6-8c70-8830a8126e29",
        "trusted": true
      },
      "outputs": [],
      "execution_count": 13
    },
    {
      "id": "b9f1286d",
      "cell_type": "markdown",
      "source": "# Exercício 8 - Transformação das variáveis contínuas\n\n\nEm certos cenários, os cientistas de dados precisam realizar transformações para obter novos insights que auxiliem na previsão da variável-alvo. Portanto, este exercício propõe que você aplique essas transformações matemáticas na prática. Uma dica importante é verificar a distribuição da variável por meio de um histograma antes e depois das transformações, para tirar conclusões relevantes. Arredonde os valores em três casas decimais.\n\nCrie um DataFrame Pandas chamado <b>exercicio8</b> aplicando transformações matemáticas nas variáveis contínuas. Para criar o DataFrame utilize o <b>exercicio7</b> como base.\n\nSegue abaixo o detalhamento de cada variável:\n\n|Atributo|Descrição|Regra|\n|:-------|:--------|:----|\n|VL_SLR_MSL_SQRT| Valor da Raiz Quadrada do Salário Mensal | Raiz Quadrada do Valor do Salário Mensal|\n|VL_CST_SVR_LOG| Valor do Custo de Servir Logarítmo | Logaritmo do Valor do Custo de Servir acrescido de 1|\n|QT_PRD_COM_BB_LOG| Quantidade de Produtos com o BB Logarítmo | Logaritmo da Quantidade de Produtos com o BB acrescido de 1|\n\n\n<b>Atenção:</b> Não existe $Log(0)$, portanto atente para a regra das colunas de Logarítmo.",
      "metadata": {
        "id": "b9f1286d"
      }
    },
    {
      "id": "29284246",
      "cell_type": "code",
      "source": "exercicio8 = exercicio7.copy()\nexercicio8['VL_SLR_MSL_SQRT'] = round(exercicio8['VL_SLR_MSL'].apply(lambda x: np.sqrt(x)), 3)\nexercicio8['VL_CST_SVR_LOG'] = round(exercicio8['VL_CST_SVR'].apply(lambda x: np.log(x + 1)), 3)\nexercicio8['QT_PRD_COM_BB_LOG'] = round(exercicio8['QT_PRD_COM_BB'].apply(lambda x: np.log(x + 1)), 3)",
      "metadata": {
        "id": "29284246",
        "trusted": true
      },
      "outputs": [],
      "execution_count": 14
    },
    {
      "id": "fce3acde",
      "cell_type": "markdown",
      "source": "# Exercício 9 - Padronização de variável\n\nCrie um DataFrame Pandas chamado <b>exercicio9</b> com suas <b>variáveis quantitativas contínuas </b> padronizadas pelo método Máximo-Mínimo (Max-Min). No exercício, não é necessário padronizar a variável ‘QT_RCLM_CLI’, pois, para o caso em questão, a variável binária ‘CD_IN_RCLM_CLI’ tem maior relevância do ponto de vista negocial.\n\n<b>Importante:</b> Para esse exercício, deve utilizar o DataFrame do **Exercício 8**. Arredonde os valores em três casas decimais.\n\nSegue abaixo a fórmula da Padronização pelo Método Max-Min:\n\n$$X_{max\\_min} = \\frac{X - \\min(X)}{\\max(X) - \\min(X)}$$\n\n\nSegue abaixo como seria o DataFrame com dados fícticios:\n\n|   IDFR | DT_REF              |   IN_EVS | EST_CVL   | CLS_GNR   | RGAO_GEO     |   SGM_CLI |   VL_SLR_MSL |   QT_PRD_COM_BB |   TMP_RLC_COM_BB | CTGR_MC_EPGR   | RAMO_MC_EPGR   | NM_CTRA   |   VL_CST_SVR | FXA_IDD   |   QT_RCLM_CLI |   PRI_ATDT_CLI |   CD_IN_RCLM_CLI |   CD_IN_SLR_MIN |\n|-------:|:--------------------|---------:|:----------|:----------|:-------------|----------:|-------------:|----------------:|-----------------:|:---------------|:---------------|:----------|-------------:|:----------|--------------:|---------------:|-----------------:|----------------:|\n|      1 | 2023-12-01 00:00:00 |        0 | SOLTEIRO  | M         | SUDESTE      |         3 |          0.1 |             0.1 |             0.12 | ATACADO        | INDUSTRIA      | NEGOCIAL  |         0.28 | 30-39     |             0 |              0 |                0 |               0 |\n|      2 | 2023-10-01 00:00:00 |        0 | SOLTEIRO  | M         | SUL          |         1 |          0.2 |             0.2 |             0.10 | ATACADO        | INDUSTRIA      | NEGOCIAL  |         0.39 | 30-39     |             0 |              0 |                0 |               0 |\n|      3 | 2023-11-01 00:00:00 |        0 | SOLTEIRO  | M         | SUDESTE      |         3 |          0.3 |             0.3 |             0.12 | VAREJO         | SERVICOS       | NEGOCIAL  |         0.81 | 30-39     |             0 |              0 |                0 |               0 |\n|      5 | 2023-11-01 00:00:00 |        1 | SOLTEIRO  | F         | SUL          |         4 |          0.4 |             0.4 |             0.02 | ATACADO        | INDUSTRIA      | NEGOCIAL  |         0.72 | 30-39     |             0 |              0 |                0 |               0 |\n|      6 | 2023-10-01 00:00:00 |        0 | SOLTEIRO  | M         | CENTRO-OESTE |         2 |          0.5 |             0.5 |             0.08 | ATACADO        | INDUSTRIA      | NEGOCIAL  |         0.80 | 30-39     |             0 |              0 |                0 |               1 |\n\n\n",
      "metadata": {
        "id": "fce3acde"
      }
    },
    {
      "id": "545f8d55-b062-419c-9635-4c7f923fd9b6",
      "cell_type": "code",
      "source": "exercicio8.head()",
      "metadata": {
        "id": "545f8d55-b062-419c-9635-4c7f923fd9b6",
        "trusted": true
      },
      "outputs": [
        {
          "execution_count": 15,
          "output_type": "execute_result",
          "data": {
            "text/plain": "    IDFR     DT_REF  IN_EVS   EST_CVL CLS_GNR RGAO_GEO  SGM_CLI  VL_SLR_MSL  \\\n0  11155 2023-10-01     1.0  SOLTEIRO       M      SUL      3.0      1650.0   \n1  11288 2023-11-01     0.0  SOLTEIRO       M  SUDESTE      2.0      4690.0   \n2  10570 2023-12-01     0.0  SOLTEIRO       F      SUL      4.0      3140.0   \n3   6891 2023-10-01     0.0  SOLTEIRO       M    NORTE      3.0       580.0   \n4   9486 2023-12-01     1.0  SOLTEIRO       M  SUDESTE      3.0      3110.0   \n\n   QT_PRD_COM_BB  TMP_RLC_COM_BB  ...        NM_CTRA VL_CST_SVR FXA_IDD  \\\n0            4.0             0.0  ...       NEGOCIAL       5.72   30-39   \n1            7.0             2.0  ...       NEGOCIAL      21.83   50-59   \n2            5.0             4.0  ...       NEGOCIAL      58.38   20-29   \n3            6.0             3.0  ...  PERSONALIZADO       9.00   20-29   \n4           13.0             1.0  ...        PRIVATE     169.57   20-29   \n\n   QT_RCLM_CLI PRI_ATDT_CLI  CD_IN_RCLM_CLI  CD_IN_SLR_MIN  VL_SLR_MSL_SQRT  \\\n0          NaN          0.0               0              0           40.620   \n1          NaN          0.0               0              0           68.484   \n2          9.0          1.0               1              0           56.036   \n3          NaN          0.0               0              1           24.083   \n4          NaN          0.0               0              0           55.767   \n\n   VL_CST_SVR_LOG  QT_PRD_COM_BB_LOG  \n0           1.905              1.609  \n1           3.128              2.079  \n2           4.084              1.792  \n3           2.303              1.946  \n4           5.139              2.639  \n\n[5 rows x 22 columns]",
            "text/html": "<div>\n<style scoped>\n    .dataframe tbody tr th:only-of-type {\n        vertical-align: middle;\n    }\n\n    .dataframe tbody tr th {\n        vertical-align: top;\n    }\n\n    .dataframe thead th {\n        text-align: right;\n    }\n</style>\n<table border=\"1\" class=\"dataframe\">\n  <thead>\n    <tr style=\"text-align: right;\">\n      <th></th>\n      <th>IDFR</th>\n      <th>DT_REF</th>\n      <th>IN_EVS</th>\n      <th>EST_CVL</th>\n      <th>CLS_GNR</th>\n      <th>RGAO_GEO</th>\n      <th>SGM_CLI</th>\n      <th>VL_SLR_MSL</th>\n      <th>QT_PRD_COM_BB</th>\n      <th>TMP_RLC_COM_BB</th>\n      <th>...</th>\n      <th>NM_CTRA</th>\n      <th>VL_CST_SVR</th>\n      <th>FXA_IDD</th>\n      <th>QT_RCLM_CLI</th>\n      <th>PRI_ATDT_CLI</th>\n      <th>CD_IN_RCLM_CLI</th>\n      <th>CD_IN_SLR_MIN</th>\n      <th>VL_SLR_MSL_SQRT</th>\n      <th>VL_CST_SVR_LOG</th>\n      <th>QT_PRD_COM_BB_LOG</th>\n    </tr>\n  </thead>\n  <tbody>\n    <tr>\n      <th>0</th>\n      <td>11155</td>\n      <td>2023-10-01</td>\n      <td>1.0</td>\n      <td>SOLTEIRO</td>\n      <td>M</td>\n      <td>SUL</td>\n      <td>3.0</td>\n      <td>1650.0</td>\n      <td>4.0</td>\n      <td>0.0</td>\n      <td>...</td>\n      <td>NEGOCIAL</td>\n      <td>5.72</td>\n      <td>30-39</td>\n      <td>NaN</td>\n      <td>0.0</td>\n      <td>0</td>\n      <td>0</td>\n      <td>40.620</td>\n      <td>1.905</td>\n      <td>1.609</td>\n    </tr>\n    <tr>\n      <th>1</th>\n      <td>11288</td>\n      <td>2023-11-01</td>\n      <td>0.0</td>\n      <td>SOLTEIRO</td>\n      <td>M</td>\n      <td>SUDESTE</td>\n      <td>2.0</td>\n      <td>4690.0</td>\n      <td>7.0</td>\n      <td>2.0</td>\n      <td>...</td>\n      <td>NEGOCIAL</td>\n      <td>21.83</td>\n      <td>50-59</td>\n      <td>NaN</td>\n      <td>0.0</td>\n      <td>0</td>\n      <td>0</td>\n      <td>68.484</td>\n      <td>3.128</td>\n      <td>2.079</td>\n    </tr>\n    <tr>\n      <th>2</th>\n      <td>10570</td>\n      <td>2023-12-01</td>\n      <td>0.0</td>\n      <td>SOLTEIRO</td>\n      <td>F</td>\n      <td>SUL</td>\n      <td>4.0</td>\n      <td>3140.0</td>\n      <td>5.0</td>\n      <td>4.0</td>\n      <td>...</td>\n      <td>NEGOCIAL</td>\n      <td>58.38</td>\n      <td>20-29</td>\n      <td>9.0</td>\n      <td>1.0</td>\n      <td>1</td>\n      <td>0</td>\n      <td>56.036</td>\n      <td>4.084</td>\n      <td>1.792</td>\n    </tr>\n    <tr>\n      <th>3</th>\n      <td>6891</td>\n      <td>2023-10-01</td>\n      <td>0.0</td>\n      <td>SOLTEIRO</td>\n      <td>M</td>\n      <td>NORTE</td>\n      <td>3.0</td>\n      <td>580.0</td>\n      <td>6.0</td>\n      <td>3.0</td>\n      <td>...</td>\n      <td>PERSONALIZADO</td>\n      <td>9.00</td>\n      <td>20-29</td>\n      <td>NaN</td>\n      <td>0.0</td>\n      <td>0</td>\n      <td>1</td>\n      <td>24.083</td>\n      <td>2.303</td>\n      <td>1.946</td>\n    </tr>\n    <tr>\n      <th>4</th>\n      <td>9486</td>\n      <td>2023-12-01</td>\n      <td>1.0</td>\n      <td>SOLTEIRO</td>\n      <td>M</td>\n      <td>SUDESTE</td>\n      <td>3.0</td>\n      <td>3110.0</td>\n      <td>13.0</td>\n      <td>1.0</td>\n      <td>...</td>\n      <td>PRIVATE</td>\n      <td>169.57</td>\n      <td>20-29</td>\n      <td>NaN</td>\n      <td>0.0</td>\n      <td>0</td>\n      <td>0</td>\n      <td>55.767</td>\n      <td>5.139</td>\n      <td>2.639</td>\n    </tr>\n  </tbody>\n</table>\n<p>5 rows × 22 columns</p>\n</div>"
          },
          "metadata": {}
        }
      ],
      "execution_count": 15
    },
    {
      "id": "5a8d08df-d739-49ce-96e0-899ac5d555a8",
      "cell_type": "code",
      "source": "exercicio9 = exercicio8.copy()\nmin_slr_msl = exercicio9['VL_SLR_MSL'].min()\nmax_slr_msl = exercicio9['VL_SLR_MSL'].max()\nexercicio9['VL_SLR_MSL'] = round(exercicio9['VL_SLR_MSL'].apply(lambda x: (x - min_slr_msl) / (max_slr_msl - min_slr_msl)), 3)",
      "metadata": {
        "trusted": true
      },
      "outputs": [],
      "execution_count": 16
    },
    {
      "id": "9d203693-471e-4672-9e36-ae9d8b52c16a",
      "cell_type": "code",
      "source": "min_qt_prd = exercicio9['QT_PRD_COM_BB'].min()\nmax_qt_prd = exercicio9['QT_PRD_COM_BB'].max()\nexercicio9['QT_PRD_COM_BB'] = round(exercicio9['QT_PRD_COM_BB'].apply(lambda x: (x - min_qt_prd) / (max_qt_prd - min_qt_prd)), 3)",
      "metadata": {
        "trusted": true
      },
      "outputs": [],
      "execution_count": 17
    },
    {
      "id": "5071bb53-df42-443b-ba03-68d2309a8dfb",
      "cell_type": "code",
      "source": "min_tmp_rlc = exercicio9['TMP_RLC_COM_BB'].min()\nmax_tmp_rlc = exercicio9['TMP_RLC_COM_BB'].max()\nexercicio9['TMP_RLC_COM_BB'] = round(exercicio9['TMP_RLC_COM_BB'].apply(lambda x: (x - min_tmp_rlc) / (max_tmp_rlc - min_tmp_rlc)), 3)",
      "metadata": {
        "trusted": true
      },
      "outputs": [],
      "execution_count": 18
    },
    {
      "id": "7312b2cc-1afb-4f57-b9e8-299a9b966917",
      "cell_type": "code",
      "source": "min_cst_svr = exercicio9['VL_CST_SVR'].min()\nmax_cst_svr = exercicio9['VL_CST_SVR'].max()\nexercicio9['VL_CST_SVR'] = round(exercicio9['VL_CST_SVR'].apply(lambda x: (x - min_cst_svr) / (max_cst_svr - min_cst_svr)), 3)",
      "metadata": {
        "trusted": true
      },
      "outputs": [],
      "execution_count": 19
    },
    {
      "id": "66a03052-6721-4b8d-9957-896819e417c1",
      "cell_type": "code",
      "source": "min_slr_msl_sqrt = exercicio9['VL_SLR_MSL_SQRT'].min()\nmax_slr_msl_sqrt = exercicio9['VL_SLR_MSL_SQRT'].max()\nexercicio9['VL_SLR_MSL_SQRT'] = round(exercicio9['VL_SLR_MSL_SQRT'].apply(lambda x: (x - min_slr_msl_sqrt) / (max_slr_msl_sqrt - min_slr_msl_sqrt)), 3)",
      "metadata": {
        "trusted": true
      },
      "outputs": [],
      "execution_count": 20
    },
    {
      "id": "21d330d2-2f8f-492e-ad42-705c09632c07",
      "cell_type": "code",
      "source": "min_cst_svr_log = exercicio9['VL_CST_SVR_LOG'].min()\nmax_cst_svr_log = exercicio9['VL_CST_SVR_LOG'].max()\nexercicio9['VL_CST_SVR_LOG'] = round(exercicio9['VL_CST_SVR_LOG'].apply(lambda x: (x - min_cst_svr_log) / (max_cst_svr_log - min_cst_svr_log)), 3)",
      "metadata": {
        "trusted": true
      },
      "outputs": [],
      "execution_count": 21
    },
    {
      "id": "05eb0567-7883-4b2f-acbd-f8587cf7cb14",
      "cell_type": "code",
      "source": "min_qt_prd_log = exercicio9['QT_PRD_COM_BB_LOG'].min()\nmax_qt_prd_log = exercicio9['QT_PRD_COM_BB_LOG'].max()\nexercicio9['QT_PRD_COM_BB_LOG'] = round(exercicio9['QT_PRD_COM_BB_LOG'].apply(lambda x: (x - min_qt_prd_log) / (max_qt_prd_log - min_qt_prd_log)), 3)",
      "metadata": {
        "trusted": true
      },
      "outputs": [],
      "execution_count": 22
    },
    {
      "id": "270668ac",
      "cell_type": "markdown",
      "source": "# Exercício 10 a) - Criar Dummies ou One Hot Encoding\n\n## 1ª Parte\n\nCrie o DataFrame **exercicio10a** a partir do DataFrame **exercicio9** ou **exercicio8** transformando todas as variáveis categóricas para o formato <b>uint8</b>. \n\n<b>Importante:</b> Lembrando que as variáveis categóricas são: \n\n- Estado Civil\n- Classificação de Gênero\n- Região Geográfica\n- Segmento do Cliente\n- Categoria de Mercado do Empregador\n- Ramo de Mercado do Empregador\n- Nome da Carteira\n- Faixa de Idade\n\n\n**Regra 1:** todas as colunas devem conter valores binários (0 ou 1)\n\n**Regra 2:** Utilizar técnicas de criação de variáveis fictícias (dummies).\n\n**Regra 3:** Os nomes das variáveis criadas pela aplicação das técnicas acima devem obrigatoriamente iniciar com o nome original da coluna.\n\nExemplo:\n- coluna original:\n\n|NM_COL|\n|---|\n|CAT1|\n|CAT2|\n|CAT1|\n|CAT3|\n|...|\n- colunas categórias:\n\n|NM_COL_CAT1|NM_COL_CAT2|NM_COL_CAT3|\n|---|---|---|\n|1|0|0|\n|0|1|0|\n|1|0|0|\n|0|0|1|\n|...|...|...|\n\n**Regra 4:** Desprezar as variáveis que contenham apenas um valor único, ou seja, que tenha apenas valores 0 ou apenas valores 1.\n",
      "metadata": {
        "id": "270668ac"
      }
    },
    {
      "id": "f9ebdec9-5c41-4bf2-97e4-ea8c7111b3bb",
      "cell_type": "code",
      "source": "dummy_estcivil = pd.get_dummies(exercicio9['EST_CVL'], prefix = 'EST_CVL', dtype = 'uint8')\ndummy_genero = pd.get_dummies(exercicio9['CLS_GNR'], prefix = 'CLS_GNR', dtype = 'uint8')\ndummy_regiao = pd.get_dummies(exercicio9['RGAO_GEO'], prefix = 'RGAO_GEO', dtype = 'uint8')\ndummy_segmento = pd.get_dummies(exercicio9['SGM_CLI'], prefix = 'SGM_CLI', dtype = 'uint8')\ndummy_categoria = pd.get_dummies(exercicio9['CTGR_MC_EPGR'], prefix = 'CTGR_MC_EPGR', dtype = 'uint8')\ndummy_ramo = pd.get_dummies(exercicio9['RAMO_MC_EPGR'], prefix = 'RAMO_MC_EPGR', dtype = 'uint8')\ndummy_carteira = pd.get_dummies(exercicio9['NM_CTRA'], prefix = 'NM_CTRA', dtype = 'uint8')\ndummy_idade = pd.get_dummies(exercicio9['FXA_IDD'], prefix = 'FXA_IDD', dtype = 'uint8')",
      "metadata": {
        "trusted": true
      },
      "outputs": [],
      "execution_count": 23
    },
    {
      "id": "da61c325-2940-4db0-a2b8-aade272bd912",
      "cell_type": "code",
      "source": "exercicio10a = exercicio9.copy()\n\nlista_dummies = [dummy_estcivil, dummy_genero, dummy_regiao, dummy_segmento, dummy_categoria, dummy_ramo, dummy_carteira, dummy_idade]\n\nfor i in range (8):\n    nomes_colunas = lista_dummies[i].columns.unique()\n    for j in range(len(lista_dummies[i].columns.unique())):\n        nome_coluna = nomes_colunas[j]\n        exercicio10a[nome_coluna] = lista_dummies[i][nome_coluna]",
      "metadata": {
        "trusted": true
      },
      "outputs": [],
      "execution_count": 24
    },
    {
      "id": "0bb356b3-24f4-406a-89f4-7308fd33199e",
      "cell_type": "code",
      "source": "exercicio10a = exercicio10a.drop(columns = ['EST_CVL', 'CLS_GNR', 'RGAO_GEO', 'SGM_CLI', 'CTGR_MC_EPGR', 'RAMO_MC_EPGR', 'NM_CTRA', 'FXA_IDD'])",
      "metadata": {
        "trusted": true
      },
      "outputs": [],
      "execution_count": 25
    },
    {
      "id": "b0d3066f",
      "cell_type": "markdown",
      "source": "# Exercício 10 b) - Separação das variáveis alvo e preditoras\n\n## 2ª Parte\n\nA partir do **exercicio10a**, crie os DataFrames **exercicio10b** e **exercicio10c** contendo:\n\n - **exercicio10b** = demais variáveis (Exceto DT_REF e IDFR)\n - **exercicio10c** = variável alvo (target) no nosso modelo\n\n----\n## Descomplicando\n**Variável Alvo** (ou Variável Target) é a variável de interesse do nosso modelo, em geral a variável que busca-se prever. ",
      "metadata": {
        "id": "b0d3066f"
      }
    },
    {
      "id": "6fa53124-6108-4db8-8bb1-009a464f3d28",
      "cell_type": "code",
      "source": "exercicio10b = exercicio10a.copy()\nexercicio10b.drop(columns = ['IDFR', 'DT_REF', 'IN_EVS'], inplace = True)",
      "metadata": {
        "trusted": true
      },
      "outputs": [],
      "execution_count": 26
    },
    {
      "id": "bcb96e39-0951-48e6-8979-64723535d227",
      "cell_type": "code",
      "source": "exercicio10c = pd.DataFrame()\nexercicio10c['IN_EVS'] = exercicio10a['IN_EVS']",
      "metadata": {
        "trusted": true
      },
      "outputs": [],
      "execution_count": 27
    },
    {
      "id": "dba525d3",
      "cell_type": "markdown",
      "source": "# Exercício 11 - Separação de conjunto de dados - Treino/Teste\n\nA partir das variáveis **exercicio10b** e **exercicio10bc**, crie os DataFrames **exercicio11a**, **exercicio11b**, **exercicio11c** e **exercicio11d** aplicando a técnica de divisão dos DataFrames do exercício anterior para treino e teste (Train/Test Split) considerando as seguintes regras:\n\n - **exercicio11a** : Dados de treino para as variáveis preditoras (X)\n - **exercicio11b** : Dados de teste para as variáveis preditoras (X)\n - **exercicio11c** : Dados de treino para a variável alvo (y)\n - **exercicio11d** : Dados de teste para as variável alvo (y)\n\n1) separar **30%** dos registros para teste\n\n2) Travar a semente (seed) em <b>42</b>\n\n3) Passar o parâmetro embaralhar (shuffle) como `True`\n\n4) Utilize no máximo **21 variáveis** para criar o modelo, ou seja, a entrada do modelo poderá conter no máximo 21 atributos. Exemplo:\n\n\n|   VL_SLR_MSL |   QT_PRD_COM_BB |   TMP_RLC_COM_BB |   VL_CST_SVR |   PRI_ATDT_CLI |   CD_IN_RCLM_CLI |   CD_IN_SLR_MIN |   VL_CST_SVR_LOG |   QT_PRD_COM_BB_LOG |   VL_SLR_MSL_SQRT |   CLS_GNR_M |   RGAO_GEO_CENTRO-OESTE |   RGAO_GEO_NORDESTE |   RGAO_GEO_NORTE |   RGAO_GEO_SUDESTE |   RGAO_GEO_SUL |\n|-------------:|----------------:|-----------------:|-------------:|---------------:|-----------------:|----------------:|-----------------:|--------------------:|------------------:|------------:|------------------------:|--------------------:|-----------------:|-------------------:|---------------:|\n|         4100 |               7 |        0.746971  |        28.85 |              0 |                0 |               1 |        -0.189521 |            0.140901 |          0.469209 |           1 |                       0 |                   0 |                0 |                  1 |              0 |\n|         7510 |               6 |       -0.0240181 |        39.87 |              0 |                0 |               1 |         0.100732 |           -0.120562 |          1.70155  |           1 |                       0 |                   0 |                0 |                  0 |              1 |\n|         4450 |              13 |        0.0723555 |        81.87 |              0 |                0 |               1 |         0.753708 |            1.23667  |          0.614998 |           1 |                       0 |                   0 |                0 |                  1 |              0 |\n|         1200 |               4 |       -0.987754  |        19.88 |              0 |                0 |               0 |        -0.519662 |           -0.779396 |         -1.13133  |           0 |                       0 |                   0 |                0 |                  0 |              1 |\n|         5100 |              14 |       -0.216765  |       104.96 |              0 |                0 |               1 |         0.980755 |            1.37176  |          0.871277 |           1 |                       1 |                   0 |                0 |                  0 |              0 |\n\n\nAtenção, as variáveis criadas devem ser do tipo DataFrame.",
      "metadata": {
        "id": "dba525d3"
      }
    },
    {
      "id": "5d83d4ac-c5d7-413c-8fda-ba7ad3ab5248",
      "cell_type": "code",
      "source": "exercicio11_total = exercicio10b[['CD_IN_RCLM_CLI', 'VL_SLR_MSL_SQRT', 'TMP_RLC_COM_BB', 'QT_PRD_COM_BB_LOG', 'EST_CVL_CASADO', 'EST_CVL_SOLTEIRO', 'RGAO_GEO_NORDESTE', \n                                  'SGM_CLI_3.0', 'SGM_CLI_4.0', 'VL_SLR_MSL', 'NM_CTRA_ESTILO_A', 'FXA_IDD_20-29', 'NM_CTRA_EXCLUSIVO_A', 'FXA_IDD_30-39', 'RGAO_GEO_SUDESTE',\n                                  'FXA_IDD_40-49', 'NM_CTRA_NEGOCIAL', 'RGAO_GEO_SUL', 'FXA_IDD_50-59', 'VL_CST_SVR_LOG', 'CLS_GNR_M']].copy()",
      "metadata": {
        "trusted": true
      },
      "outputs": [],
      "execution_count": 28
    },
    {
      "id": "e549e1dd-b94a-4a23-8f52-f212a5a3ba2b",
      "cell_type": "code",
      "source": "seed = 42\nexercicio11a, exercicio11b, exercicio11c, exercicio11d = train_test_split(exercicio11_total, exercicio10c, test_size = 0.3, random_state = seed, shuffle = True)",
      "metadata": {
        "trusted": true
      },
      "outputs": [],
      "execution_count": 29
    },
    {
      "id": "e8564f11",
      "cell_type": "markdown",
      "source": "# Exercício 12 - Criação de modelo de aprendizado de máquina\n\n## Parte 1\n\nCrie as variáveis abaixo relacionadas aplicando os modelos preditivos conforme orientações detalhadas abaixo:\n\n|Nome da Variável|Modelo|Tipo|\n|---|---|---|\n|**exercicio12e**|Regressão Logística|sklearn.linear_model._logistic.LogisticRegression|\n|**exercicio12f**|Árvore de Decisão|sklearn.tree.DecisionTreeClassifier|\n|**exercicio12g**|Support Vector Machine|sklearn.svm._classes.SVC|\n\n## Parte 2\n\nCriar as variáveis **exercicio12a**, **exercicio12b**, **exercicio12c** e **exercicio12d** para responder às perguntas:\n\n**exercicio12a)** Qual o F1-score do modelo Regressão Logística?\n\n**exercicio12b)** Qual o F1-score do modelo Árvore de Decisão?\n\n**exercicio12c)** Qual o F1-score do modelo Support Vector Machine?\n\n**exercicio12d)** Qual o modelo com maior F1-score?\n\nAs variáveis com as respostas **exercicio12a**, **exercicio12b** e **exercicio12c**, deverão conter o F1-score com três casas decimais no formato X.XXX\n\n    Exemplo:\n        comando: print(exercicio12e)\n        resultado: 0.789\n        \nA resposta **exercicio12d** deverá conter a variável do **modelo com melhor métrica F1-score**. \n\n**Regra:** O valor do F1-score deve estar entre 0,50 e 0,70.\n",
      "metadata": {
        "id": "e8564f11"
      }
    },
    {
      "id": "e2de1b0c-213b-4a62-b47b-fb743963dbf4",
      "cell_type": "code",
      "source": "y_treino = pd.Series(exercicio11c['IN_EVS'])\ny_teste = pd.Series(exercicio11d['IN_EVS'])",
      "metadata": {
        "id": "e2de1b0c-213b-4a62-b47b-fb743963dbf4",
        "trusted": true
      },
      "outputs": [],
      "execution_count": 30
    },
    {
      "id": "c498b24d-7376-48d2-b006-4c5c1979be2c",
      "cell_type": "code",
      "source": "exercicio12e = LogisticRegression()\nexercicio12e.fit(exercicio11a, y_treino)",
      "metadata": {
        "trusted": true
      },
      "outputs": [
        {
          "execution_count": 31,
          "output_type": "execute_result",
          "data": {
            "text/plain": "LogisticRegression()",
            "text/html": "<style>#sk-container-id-1 {color: black;}#sk-container-id-1 pre{padding: 0;}#sk-container-id-1 div.sk-toggleable {background-color: white;}#sk-container-id-1 label.sk-toggleable__label {cursor: pointer;display: block;width: 100%;margin-bottom: 0;padding: 0.3em;box-sizing: border-box;text-align: center;}#sk-container-id-1 label.sk-toggleable__label-arrow:before {content: \"▸\";float: left;margin-right: 0.25em;color: #696969;}#sk-container-id-1 label.sk-toggleable__label-arrow:hover:before {color: black;}#sk-container-id-1 div.sk-estimator:hover label.sk-toggleable__label-arrow:before {color: black;}#sk-container-id-1 div.sk-toggleable__content {max-height: 0;max-width: 0;overflow: hidden;text-align: left;background-color: #f0f8ff;}#sk-container-id-1 div.sk-toggleable__content pre {margin: 0.2em;color: black;border-radius: 0.25em;background-color: #f0f8ff;}#sk-container-id-1 input.sk-toggleable__control:checked~div.sk-toggleable__content {max-height: 200px;max-width: 100%;overflow: auto;}#sk-container-id-1 input.sk-toggleable__control:checked~label.sk-toggleable__label-arrow:before {content: \"▾\";}#sk-container-id-1 div.sk-estimator input.sk-toggleable__control:checked~label.sk-toggleable__label {background-color: #d4ebff;}#sk-container-id-1 div.sk-label input.sk-toggleable__control:checked~label.sk-toggleable__label {background-color: #d4ebff;}#sk-container-id-1 input.sk-hidden--visually {border: 0;clip: rect(1px 1px 1px 1px);clip: rect(1px, 1px, 1px, 1px);height: 1px;margin: -1px;overflow: hidden;padding: 0;position: absolute;width: 1px;}#sk-container-id-1 div.sk-estimator {font-family: monospace;background-color: #f0f8ff;border: 1px dotted black;border-radius: 0.25em;box-sizing: border-box;margin-bottom: 0.5em;}#sk-container-id-1 div.sk-estimator:hover {background-color: #d4ebff;}#sk-container-id-1 div.sk-parallel-item::after {content: \"\";width: 100%;border-bottom: 1px solid gray;flex-grow: 1;}#sk-container-id-1 div.sk-label:hover label.sk-toggleable__label {background-color: #d4ebff;}#sk-container-id-1 div.sk-serial::before {content: \"\";position: absolute;border-left: 1px solid gray;box-sizing: border-box;top: 0;bottom: 0;left: 50%;z-index: 0;}#sk-container-id-1 div.sk-serial {display: flex;flex-direction: column;align-items: center;background-color: white;padding-right: 0.2em;padding-left: 0.2em;position: relative;}#sk-container-id-1 div.sk-item {position: relative;z-index: 1;}#sk-container-id-1 div.sk-parallel {display: flex;align-items: stretch;justify-content: center;background-color: white;position: relative;}#sk-container-id-1 div.sk-item::before, #sk-container-id-1 div.sk-parallel-item::before {content: \"\";position: absolute;border-left: 1px solid gray;box-sizing: border-box;top: 0;bottom: 0;left: 50%;z-index: -1;}#sk-container-id-1 div.sk-parallel-item {display: flex;flex-direction: column;z-index: 1;position: relative;background-color: white;}#sk-container-id-1 div.sk-parallel-item:first-child::after {align-self: flex-end;width: 50%;}#sk-container-id-1 div.sk-parallel-item:last-child::after {align-self: flex-start;width: 50%;}#sk-container-id-1 div.sk-parallel-item:only-child::after {width: 0;}#sk-container-id-1 div.sk-dashed-wrapped {border: 1px dashed gray;margin: 0 0.4em 0.5em 0.4em;box-sizing: border-box;padding-bottom: 0.4em;background-color: white;}#sk-container-id-1 div.sk-label label {font-family: monospace;font-weight: bold;display: inline-block;line-height: 1.2em;}#sk-container-id-1 div.sk-label-container {text-align: center;}#sk-container-id-1 div.sk-container {/* jupyter's `normalize.less` sets `[hidden] { display: none; }` but bootstrap.min.css set `[hidden] { display: none !important; }` so we also need the `!important` here to be able to override the default hidden behavior on the sphinx rendered scikit-learn.org. See: https://github.com/scikit-learn/scikit-learn/issues/21755 */display: inline-block !important;position: relative;}#sk-container-id-1 div.sk-text-repr-fallback {display: none;}</style><div id=\"sk-container-id-1\" class=\"sk-top-container\"><div class=\"sk-text-repr-fallback\"><pre>LogisticRegression()</pre><b>In a Jupyter environment, please rerun this cell to show the HTML representation or trust the notebook. <br />On GitHub, the HTML representation is unable to render, please try loading this page with nbviewer.org.</b></div><div class=\"sk-container\" hidden><div class=\"sk-item\"><div class=\"sk-estimator sk-toggleable\"><input class=\"sk-toggleable__control sk-hidden--visually\" id=\"sk-estimator-id-1\" type=\"checkbox\" checked><label for=\"sk-estimator-id-1\" class=\"sk-toggleable__label sk-toggleable__label-arrow\">LogisticRegression</label><div class=\"sk-toggleable__content\"><pre>LogisticRegression()</pre></div></div></div></div></div>"
          },
          "metadata": {}
        }
      ],
      "execution_count": 31
    },
    {
      "id": "5026205a-a9a3-4528-9b24-c523d2ca6d9a",
      "cell_type": "code",
      "source": "exercicio12f = DecisionTreeClassifier()\nexercicio12f.fit(exercicio11a, y_treino)",
      "metadata": {
        "trusted": true
      },
      "outputs": [
        {
          "execution_count": 32,
          "output_type": "execute_result",
          "data": {
            "text/plain": "DecisionTreeClassifier()",
            "text/html": "<style>#sk-container-id-2 {color: black;}#sk-container-id-2 pre{padding: 0;}#sk-container-id-2 div.sk-toggleable {background-color: white;}#sk-container-id-2 label.sk-toggleable__label {cursor: pointer;display: block;width: 100%;margin-bottom: 0;padding: 0.3em;box-sizing: border-box;text-align: center;}#sk-container-id-2 label.sk-toggleable__label-arrow:before {content: \"▸\";float: left;margin-right: 0.25em;color: #696969;}#sk-container-id-2 label.sk-toggleable__label-arrow:hover:before {color: black;}#sk-container-id-2 div.sk-estimator:hover label.sk-toggleable__label-arrow:before {color: black;}#sk-container-id-2 div.sk-toggleable__content {max-height: 0;max-width: 0;overflow: hidden;text-align: left;background-color: #f0f8ff;}#sk-container-id-2 div.sk-toggleable__content pre {margin: 0.2em;color: black;border-radius: 0.25em;background-color: #f0f8ff;}#sk-container-id-2 input.sk-toggleable__control:checked~div.sk-toggleable__content {max-height: 200px;max-width: 100%;overflow: auto;}#sk-container-id-2 input.sk-toggleable__control:checked~label.sk-toggleable__label-arrow:before {content: \"▾\";}#sk-container-id-2 div.sk-estimator input.sk-toggleable__control:checked~label.sk-toggleable__label {background-color: #d4ebff;}#sk-container-id-2 div.sk-label input.sk-toggleable__control:checked~label.sk-toggleable__label {background-color: #d4ebff;}#sk-container-id-2 input.sk-hidden--visually {border: 0;clip: rect(1px 1px 1px 1px);clip: rect(1px, 1px, 1px, 1px);height: 1px;margin: -1px;overflow: hidden;padding: 0;position: absolute;width: 1px;}#sk-container-id-2 div.sk-estimator {font-family: monospace;background-color: #f0f8ff;border: 1px dotted black;border-radius: 0.25em;box-sizing: border-box;margin-bottom: 0.5em;}#sk-container-id-2 div.sk-estimator:hover {background-color: #d4ebff;}#sk-container-id-2 div.sk-parallel-item::after {content: \"\";width: 100%;border-bottom: 1px solid gray;flex-grow: 1;}#sk-container-id-2 div.sk-label:hover label.sk-toggleable__label {background-color: #d4ebff;}#sk-container-id-2 div.sk-serial::before {content: \"\";position: absolute;border-left: 1px solid gray;box-sizing: border-box;top: 0;bottom: 0;left: 50%;z-index: 0;}#sk-container-id-2 div.sk-serial {display: flex;flex-direction: column;align-items: center;background-color: white;padding-right: 0.2em;padding-left: 0.2em;position: relative;}#sk-container-id-2 div.sk-item {position: relative;z-index: 1;}#sk-container-id-2 div.sk-parallel {display: flex;align-items: stretch;justify-content: center;background-color: white;position: relative;}#sk-container-id-2 div.sk-item::before, #sk-container-id-2 div.sk-parallel-item::before {content: \"\";position: absolute;border-left: 1px solid gray;box-sizing: border-box;top: 0;bottom: 0;left: 50%;z-index: -1;}#sk-container-id-2 div.sk-parallel-item {display: flex;flex-direction: column;z-index: 1;position: relative;background-color: white;}#sk-container-id-2 div.sk-parallel-item:first-child::after {align-self: flex-end;width: 50%;}#sk-container-id-2 div.sk-parallel-item:last-child::after {align-self: flex-start;width: 50%;}#sk-container-id-2 div.sk-parallel-item:only-child::after {width: 0;}#sk-container-id-2 div.sk-dashed-wrapped {border: 1px dashed gray;margin: 0 0.4em 0.5em 0.4em;box-sizing: border-box;padding-bottom: 0.4em;background-color: white;}#sk-container-id-2 div.sk-label label {font-family: monospace;font-weight: bold;display: inline-block;line-height: 1.2em;}#sk-container-id-2 div.sk-label-container {text-align: center;}#sk-container-id-2 div.sk-container {/* jupyter's `normalize.less` sets `[hidden] { display: none; }` but bootstrap.min.css set `[hidden] { display: none !important; }` so we also need the `!important` here to be able to override the default hidden behavior on the sphinx rendered scikit-learn.org. See: https://github.com/scikit-learn/scikit-learn/issues/21755 */display: inline-block !important;position: relative;}#sk-container-id-2 div.sk-text-repr-fallback {display: none;}</style><div id=\"sk-container-id-2\" class=\"sk-top-container\"><div class=\"sk-text-repr-fallback\"><pre>DecisionTreeClassifier()</pre><b>In a Jupyter environment, please rerun this cell to show the HTML representation or trust the notebook. <br />On GitHub, the HTML representation is unable to render, please try loading this page with nbviewer.org.</b></div><div class=\"sk-container\" hidden><div class=\"sk-item\"><div class=\"sk-estimator sk-toggleable\"><input class=\"sk-toggleable__control sk-hidden--visually\" id=\"sk-estimator-id-2\" type=\"checkbox\" checked><label for=\"sk-estimator-id-2\" class=\"sk-toggleable__label sk-toggleable__label-arrow\">DecisionTreeClassifier</label><div class=\"sk-toggleable__content\"><pre>DecisionTreeClassifier()</pre></div></div></div></div></div>"
          },
          "metadata": {}
        }
      ],
      "execution_count": 32
    },
    {
      "id": "93758ebc-0a5f-487d-89be-48f8aac7e6ba",
      "cell_type": "code",
      "source": "exercicio12g = SVC()\nexercicio12g.fit(exercicio11a, y_treino)",
      "metadata": {
        "trusted": true
      },
      "outputs": [
        {
          "execution_count": 33,
          "output_type": "execute_result",
          "data": {
            "text/plain": "SVC()",
            "text/html": "<style>#sk-container-id-3 {color: black;}#sk-container-id-3 pre{padding: 0;}#sk-container-id-3 div.sk-toggleable {background-color: white;}#sk-container-id-3 label.sk-toggleable__label {cursor: pointer;display: block;width: 100%;margin-bottom: 0;padding: 0.3em;box-sizing: border-box;text-align: center;}#sk-container-id-3 label.sk-toggleable__label-arrow:before {content: \"▸\";float: left;margin-right: 0.25em;color: #696969;}#sk-container-id-3 label.sk-toggleable__label-arrow:hover:before {color: black;}#sk-container-id-3 div.sk-estimator:hover label.sk-toggleable__label-arrow:before {color: black;}#sk-container-id-3 div.sk-toggleable__content {max-height: 0;max-width: 0;overflow: hidden;text-align: left;background-color: #f0f8ff;}#sk-container-id-3 div.sk-toggleable__content pre {margin: 0.2em;color: black;border-radius: 0.25em;background-color: #f0f8ff;}#sk-container-id-3 input.sk-toggleable__control:checked~div.sk-toggleable__content {max-height: 200px;max-width: 100%;overflow: auto;}#sk-container-id-3 input.sk-toggleable__control:checked~label.sk-toggleable__label-arrow:before {content: \"▾\";}#sk-container-id-3 div.sk-estimator input.sk-toggleable__control:checked~label.sk-toggleable__label {background-color: #d4ebff;}#sk-container-id-3 div.sk-label input.sk-toggleable__control:checked~label.sk-toggleable__label {background-color: #d4ebff;}#sk-container-id-3 input.sk-hidden--visually {border: 0;clip: rect(1px 1px 1px 1px);clip: rect(1px, 1px, 1px, 1px);height: 1px;margin: -1px;overflow: hidden;padding: 0;position: absolute;width: 1px;}#sk-container-id-3 div.sk-estimator {font-family: monospace;background-color: #f0f8ff;border: 1px dotted black;border-radius: 0.25em;box-sizing: border-box;margin-bottom: 0.5em;}#sk-container-id-3 div.sk-estimator:hover {background-color: #d4ebff;}#sk-container-id-3 div.sk-parallel-item::after {content: \"\";width: 100%;border-bottom: 1px solid gray;flex-grow: 1;}#sk-container-id-3 div.sk-label:hover label.sk-toggleable__label {background-color: #d4ebff;}#sk-container-id-3 div.sk-serial::before {content: \"\";position: absolute;border-left: 1px solid gray;box-sizing: border-box;top: 0;bottom: 0;left: 50%;z-index: 0;}#sk-container-id-3 div.sk-serial {display: flex;flex-direction: column;align-items: center;background-color: white;padding-right: 0.2em;padding-left: 0.2em;position: relative;}#sk-container-id-3 div.sk-item {position: relative;z-index: 1;}#sk-container-id-3 div.sk-parallel {display: flex;align-items: stretch;justify-content: center;background-color: white;position: relative;}#sk-container-id-3 div.sk-item::before, #sk-container-id-3 div.sk-parallel-item::before {content: \"\";position: absolute;border-left: 1px solid gray;box-sizing: border-box;top: 0;bottom: 0;left: 50%;z-index: -1;}#sk-container-id-3 div.sk-parallel-item {display: flex;flex-direction: column;z-index: 1;position: relative;background-color: white;}#sk-container-id-3 div.sk-parallel-item:first-child::after {align-self: flex-end;width: 50%;}#sk-container-id-3 div.sk-parallel-item:last-child::after {align-self: flex-start;width: 50%;}#sk-container-id-3 div.sk-parallel-item:only-child::after {width: 0;}#sk-container-id-3 div.sk-dashed-wrapped {border: 1px dashed gray;margin: 0 0.4em 0.5em 0.4em;box-sizing: border-box;padding-bottom: 0.4em;background-color: white;}#sk-container-id-3 div.sk-label label {font-family: monospace;font-weight: bold;display: inline-block;line-height: 1.2em;}#sk-container-id-3 div.sk-label-container {text-align: center;}#sk-container-id-3 div.sk-container {/* jupyter's `normalize.less` sets `[hidden] { display: none; }` but bootstrap.min.css set `[hidden] { display: none !important; }` so we also need the `!important` here to be able to override the default hidden behavior on the sphinx rendered scikit-learn.org. See: https://github.com/scikit-learn/scikit-learn/issues/21755 */display: inline-block !important;position: relative;}#sk-container-id-3 div.sk-text-repr-fallback {display: none;}</style><div id=\"sk-container-id-3\" class=\"sk-top-container\"><div class=\"sk-text-repr-fallback\"><pre>SVC()</pre><b>In a Jupyter environment, please rerun this cell to show the HTML representation or trust the notebook. <br />On GitHub, the HTML representation is unable to render, please try loading this page with nbviewer.org.</b></div><div class=\"sk-container\" hidden><div class=\"sk-item\"><div class=\"sk-estimator sk-toggleable\"><input class=\"sk-toggleable__control sk-hidden--visually\" id=\"sk-estimator-id-3\" type=\"checkbox\" checked><label for=\"sk-estimator-id-3\" class=\"sk-toggleable__label sk-toggleable__label-arrow\">SVC</label><div class=\"sk-toggleable__content\"><pre>SVC()</pre></div></div></div></div></div>"
          },
          "metadata": {}
        }
      ],
      "execution_count": 33
    },
    {
      "id": "4ba06767-b142-4fec-86d5-c0da4012bac1",
      "cell_type": "code",
      "source": "y_regressao = exercicio12e.predict(exercicio11b)\nexercicio12a = round(f1_score(y_teste, y_regressao), 3)\nexercicio12a",
      "metadata": {
        "trusted": true
      },
      "outputs": [
        {
          "execution_count": 34,
          "output_type": "execute_result",
          "data": {
            "text/plain": "0.576"
          },
          "metadata": {}
        }
      ],
      "execution_count": 34
    },
    {
      "id": "5d70ebfc-af1f-4744-adc0-f1b44412cba7",
      "cell_type": "code",
      "source": "y_decision = exercicio12f.predict(exercicio11b)\nexercicio12b = round(f1_score(y_teste, y_decision), 3)\nexercicio12b",
      "metadata": {
        "trusted": true
      },
      "outputs": [
        {
          "execution_count": 35,
          "output_type": "execute_result",
          "data": {
            "text/plain": "0.579"
          },
          "metadata": {}
        }
      ],
      "execution_count": 35
    },
    {
      "id": "fe567b98-5713-457e-ab1d-3e835d4b686e",
      "cell_type": "code",
      "source": "y_svc = exercicio12g.predict(exercicio11b)\nexercicio12c = round(f1_score(y_teste, y_svc), 3)\nexercicio12c",
      "metadata": {
        "trusted": true
      },
      "outputs": [
        {
          "execution_count": 36,
          "output_type": "execute_result",
          "data": {
            "text/plain": "0.505"
          },
          "metadata": {}
        }
      ],
      "execution_count": 36
    },
    {
      "id": "8df9bd08-3836-422a-b3c8-d862b9cd94dc",
      "cell_type": "code",
      "source": "exercicio12d = exercicio12f",
      "metadata": {
        "trusted": true
      },
      "outputs": [],
      "execution_count": 37
    },
    {
      "id": "9df85c9e",
      "cell_type": "markdown",
      "source": "# Exercício 13 - Obtenção das métricas do modelo construído\n\nFaça a **Matriz de Confusão** (confusion_matrix) do seu modelo de melhor F1-score, conforme resposta do Exercício 12, em seguida crie as variáveis **exercicio13a**, **exercicio13b**, **exercicio13c** para responder às perguntas:\n\n\n\n**exercicio13a)** Quantos foram os casos de falso positivo do seu modelo, ou seja, os casos em que o modelo previu que a pessoa sairia (churn), mas ela não saiu? A variável deve ser do tipo `int` ou `float`. \n\n\n\n**exercicio13b)** Quantos foram os casos de falso negativo? A variável deve ser do tipo `int` ou `float`.\n\n\n\n**exercicio13c)** Considerando o cenário proposto, onde o gestor esteja buscando, principalmente, **reter os clientes**. Na sua análise, qual dos dois erros acima é o mais crítico para esse contexto do nosso problema de negócio?\n\n\n\n    a) falso positivo\n    b) falso negativo\n    c) os dois erros são igualmente críticos\n    d) nenhum dos dois, é indiferente\n\n\n\nAs variáveis com as respostas **exercicio13a** e **exercicio13b** deverão conter a quantidade em formato inteiro.\n\n\n\n    Exemplo:\n        comando: print(exercicio13a)\n        resultado: 125\n\n\n\nA variável **exercicio13c** deverá conter a letra correspondente à resposta que você entende ser a mais correta.",
      "metadata": {
        "id": "9df85c9e"
      }
    },
    {
      "id": "80d4de69-826f-40b5-8091-ee098e9d5a21",
      "cell_type": "code",
      "source": "matriz_confusao_decision = confusion_matrix(y_teste, y_decision)\nmatriz_confusao_decision",
      "metadata": {
        "id": "80d4de69-826f-40b5-8091-ee098e9d5a21",
        "trusted": true
      },
      "outputs": [
        {
          "execution_count": 38,
          "output_type": "execute_result",
          "data": {
            "text/plain": "array([[1141,  271],\n       [ 208,  329]], dtype=int64)"
          },
          "metadata": {}
        }
      ],
      "execution_count": 38
    },
    {
      "id": "959f0a10-65a8-42b7-bc67-f51ccf5df074",
      "cell_type": "code",
      "source": "exercicio13a = matriz_confusao_decision[1][0]\nexercicio13a",
      "metadata": {
        "trusted": true
      },
      "outputs": [
        {
          "execution_count": 39,
          "output_type": "execute_result",
          "data": {
            "text/plain": "208"
          },
          "metadata": {}
        }
      ],
      "execution_count": 39
    },
    {
      "id": "6c72902c-e9dc-4095-953f-d68214e99e3d",
      "cell_type": "code",
      "source": "exercicio13b = matriz_confusao_decision[0][1]\nexercicio13b",
      "metadata": {
        "trusted": true
      },
      "outputs": [
        {
          "execution_count": 40,
          "output_type": "execute_result",
          "data": {
            "text/plain": "271"
          },
          "metadata": {}
        }
      ],
      "execution_count": 40
    },
    {
      "id": "95f860f6-7e67-4d67-b62f-c6ebbb64e3e3",
      "cell_type": "code",
      "source": "exercicio13c = 'b'",
      "metadata": {
        "trusted": true
      },
      "outputs": [],
      "execution_count": 41
    },
    {
      "id": "39b77f15",
      "cell_type": "markdown",
      "source": "# Exercício 14 - Balanceamento dos dados com SMOTE\n\nFaça o oversampling dos dados produzidos no exercício 11 utilizando a técnica SMOTE, porém, de forma a não enviesar os dados de teste.\n\nO objeto SMOTE deve ser criado numa variável chamada **smt**.\n\nUse **random_state=42** no SMOTE\n\nO resultado do balanceamento dos dados de treinamento deve ser salvo nas variáveis **exercicio14a** e **exercicio14b**.\n\n - **exercicio14a** : Dados de treino para as variáveis preditoras (X)\n - **exercicio14b** : Dados de treino para a variável alvo (y)\n\nCrie as variáveis **exercicio14c**, **exercicio14d**, **exercicio14e** e **exercicio14f**:\n\n- Guarde as quantidades de amostras das classe 0 e classe 1 **ANTES** a utilização do SMOTE nas variáveis **exercicio14c** e **exercicio14d**.\n- Guarde as quantidades de amostras das classe 0 e classe 1 **APÓS** a utilização do SMOTE nas variáveis **exercicio14e** e **exercicio14f**.\n\nAbaixo temos um exemplo fictício de como ficaria o print da quantidade de amostras por classe <B>ANTES</B> da aplicação do SMOTE. Na sequência os prints dos valores do exemplo nas variáveis **exercicio14c** e **exercicio14d**.\n\n<pre>\n0.0    4533\n1.0    1767\nName: IN_EVS, dtype: int64\n</pre>\n\n<pre>\nprint(exercicio14c)\nOUTPUT: 4533\n\nprint(exercicio14d)\nOUTPUT: 1767\n</pre>\n\nAbaixo temos um exemplo fictício de como ficaria o print da quantidade de amostras por classe <B>APÓS</B> a aplicação do SMOTE. Na sequência os prints dos valores do exemplo nas variáveis **exercicio14e** e **exercicio14f**.\n<pre>\n0.0    4533\n1.0    4533\nName: IN_EVS, dtype: int64\n</pre>\n\n<pre>\nprint(exercicio14e)\nOUTPUT: 4533\n\nprint(exercicio14f)\nOUTPUT: 4533\n</pre>\n\n----\n## Descomplicando\n\nPara tirar suas dúvidas, acesse a documentação do SMOTE no link abaixo.\n\nhttps://imbalanced-learn.org/stable/references/generated/imblearn.over_sampling.SMOTE.html\n",
      "metadata": {
        "id": "39b77f15"
      }
    },
    {
      "id": "b5dcf540-029b-411c-ae14-d61989ff3232",
      "cell_type": "code",
      "source": "smt = SMOTE(random_state = 42)",
      "metadata": {
        "id": "b5dcf540-029b-411c-ae14-d61989ff3232",
        "trusted": true
      },
      "outputs": [],
      "execution_count": 42
    },
    {
      "id": "5368244a-af58-4531-89c5-d9e4b48ddf9f",
      "cell_type": "code",
      "source": "valores_antes = np.array(exercicio11c.value_counts())",
      "metadata": {
        "trusted": true
      },
      "outputs": [],
      "execution_count": 43
    },
    {
      "id": "62f1f0d2-8b57-4602-9687-ca6b4419bed9",
      "cell_type": "code",
      "source": "exercicio14c = valores_antes[0]\nexercicio14d = valores_antes[1]",
      "metadata": {
        "trusted": true
      },
      "outputs": [],
      "execution_count": 44
    },
    {
      "id": "167615f5-fcaf-446e-a01c-3986eceeb88b",
      "cell_type": "code",
      "source": "exercicio14a, exercicio14b = smt.fit_resample(exercicio11a, exercicio11c)",
      "metadata": {
        "trusted": true
      },
      "outputs": [
        {
          "name": "stderr",
          "text": "/lib/python3.11/site-packages/threadpoolctl.py:1019: RuntimeWarning: libc not found. The ctypes module in Python 3.11 is maybe too old for this OS.\n  warnings.warn(\n",
          "output_type": "stream"
        }
      ],
      "execution_count": 45
    },
    {
      "id": "72fdccdb-e251-4b4b-85a0-bb9935c24c68",
      "cell_type": "code",
      "source": "valores_depois = np.array(exercicio14b.value_counts())",
      "metadata": {
        "trusted": true
      },
      "outputs": [],
      "execution_count": 46
    },
    {
      "id": "d9d7f76e-09d8-4313-8438-421cf626ab73",
      "cell_type": "code",
      "source": "exercicio14e = valores_depois[0]\nexercicio14f = valores_depois[1]",
      "metadata": {
        "trusted": true
      },
      "outputs": [],
      "execution_count": 47
    },
    {
      "id": "5404a31e",
      "cell_type": "markdown",
      "source": "# Exercício 15 - Balanceamento dos dados com SMOTE e comparação dos resultados\n\n## Parte 1\n\nRefaça o exercício 12 alterando o nome das variáveis conforme explicado abaixo utilizando os dados balanceados pelo SMOTE. Se atente a usar o mesmo conjunto de teste nos exercícios 12 e 15, para comparar os resultados do treinamento com e sem SMOTE.\n\nAtribua o valor do F1-score deste exercício do modelo Regressão Logística para a variável **exercicio15a**\n\nAtribua o valor do F1-score deste exercício do modelo Árvore de Decisão para a variável **exercicio15b**\n\nAtribua o valor do F1-score deste exercício do modelo Support Vector Machine para a variável **exercicio15c**\n\nAtribua o valor do modelo com maior F1-score deste exercício para a variável **exercicio15d**\n\nCrie as variáveis abaixo aplicando os modelos preditivos conforme orientações detalhadas:\n\n|Nome da Variável|Modelo|Tipo|\n|---|---|---|\n|**logreg**|Regressão Logística|sklearn.linear_model._logistic.LogisticRegression|\n|**clf**|Árvore de Decisão|sklearn.tree.DecisionTreeClassifier|\n|**svc**|Support Vector Machine|sklearn.svm._classes.SVC|\n\n\n## Parte 2\n\nFaça a **Matriz de Confusão** (confusion_matriz) do seu modelo de melhor F1-score com os dados balanceados pelo SMOTE, conforme resposta do Exercício 14, em seguida crie as variáveis **exercicio15e**, **exercicio15f** e para responder às perguntas:\n\n\n\n**exercicio15e)** Quantos foram os casos de falso positivo do seu modelo, ou seja, os casos em que o modelo previu que a pessoa sairia (churn), mas ela não saiu?\n\n\n\n**exercicio15f)** Quantos foram os casos de falso negativo?",
      "metadata": {
        "id": "5404a31e",
        "jp-MarkdownHeadingCollapsed": true
      }
    },
    {
      "id": "6ccc902e-434f-4669-b9ce-77d430b2b9f0",
      "cell_type": "code",
      "source": "logreg = LogisticRegression()\nlogreg.fit(exercicio14a, exercicio14b)",
      "metadata": {
        "trusted": true
      },
      "outputs": [
        {
          "name": "stderr",
          "text": "/lib/python3.11/site-packages/sklearn/utils/validation.py:1183: DataConversionWarning: A column-vector y was passed when a 1d array was expected. Please change the shape of y to (n_samples, ), for example using ravel().\n  y = column_or_1d(y, warn=True)\n",
          "output_type": "stream"
        },
        {
          "execution_count": 48,
          "output_type": "execute_result",
          "data": {
            "text/plain": "LogisticRegression()",
            "text/html": "<style>#sk-container-id-4 {color: black;}#sk-container-id-4 pre{padding: 0;}#sk-container-id-4 div.sk-toggleable {background-color: white;}#sk-container-id-4 label.sk-toggleable__label {cursor: pointer;display: block;width: 100%;margin-bottom: 0;padding: 0.3em;box-sizing: border-box;text-align: center;}#sk-container-id-4 label.sk-toggleable__label-arrow:before {content: \"▸\";float: left;margin-right: 0.25em;color: #696969;}#sk-container-id-4 label.sk-toggleable__label-arrow:hover:before {color: black;}#sk-container-id-4 div.sk-estimator:hover label.sk-toggleable__label-arrow:before {color: black;}#sk-container-id-4 div.sk-toggleable__content {max-height: 0;max-width: 0;overflow: hidden;text-align: left;background-color: #f0f8ff;}#sk-container-id-4 div.sk-toggleable__content pre {margin: 0.2em;color: black;border-radius: 0.25em;background-color: #f0f8ff;}#sk-container-id-4 input.sk-toggleable__control:checked~div.sk-toggleable__content {max-height: 200px;max-width: 100%;overflow: auto;}#sk-container-id-4 input.sk-toggleable__control:checked~label.sk-toggleable__label-arrow:before {content: \"▾\";}#sk-container-id-4 div.sk-estimator input.sk-toggleable__control:checked~label.sk-toggleable__label {background-color: #d4ebff;}#sk-container-id-4 div.sk-label input.sk-toggleable__control:checked~label.sk-toggleable__label {background-color: #d4ebff;}#sk-container-id-4 input.sk-hidden--visually {border: 0;clip: rect(1px 1px 1px 1px);clip: rect(1px, 1px, 1px, 1px);height: 1px;margin: -1px;overflow: hidden;padding: 0;position: absolute;width: 1px;}#sk-container-id-4 div.sk-estimator {font-family: monospace;background-color: #f0f8ff;border: 1px dotted black;border-radius: 0.25em;box-sizing: border-box;margin-bottom: 0.5em;}#sk-container-id-4 div.sk-estimator:hover {background-color: #d4ebff;}#sk-container-id-4 div.sk-parallel-item::after {content: \"\";width: 100%;border-bottom: 1px solid gray;flex-grow: 1;}#sk-container-id-4 div.sk-label:hover label.sk-toggleable__label {background-color: #d4ebff;}#sk-container-id-4 div.sk-serial::before {content: \"\";position: absolute;border-left: 1px solid gray;box-sizing: border-box;top: 0;bottom: 0;left: 50%;z-index: 0;}#sk-container-id-4 div.sk-serial {display: flex;flex-direction: column;align-items: center;background-color: white;padding-right: 0.2em;padding-left: 0.2em;position: relative;}#sk-container-id-4 div.sk-item {position: relative;z-index: 1;}#sk-container-id-4 div.sk-parallel {display: flex;align-items: stretch;justify-content: center;background-color: white;position: relative;}#sk-container-id-4 div.sk-item::before, #sk-container-id-4 div.sk-parallel-item::before {content: \"\";position: absolute;border-left: 1px solid gray;box-sizing: border-box;top: 0;bottom: 0;left: 50%;z-index: -1;}#sk-container-id-4 div.sk-parallel-item {display: flex;flex-direction: column;z-index: 1;position: relative;background-color: white;}#sk-container-id-4 div.sk-parallel-item:first-child::after {align-self: flex-end;width: 50%;}#sk-container-id-4 div.sk-parallel-item:last-child::after {align-self: flex-start;width: 50%;}#sk-container-id-4 div.sk-parallel-item:only-child::after {width: 0;}#sk-container-id-4 div.sk-dashed-wrapped {border: 1px dashed gray;margin: 0 0.4em 0.5em 0.4em;box-sizing: border-box;padding-bottom: 0.4em;background-color: white;}#sk-container-id-4 div.sk-label label {font-family: monospace;font-weight: bold;display: inline-block;line-height: 1.2em;}#sk-container-id-4 div.sk-label-container {text-align: center;}#sk-container-id-4 div.sk-container {/* jupyter's `normalize.less` sets `[hidden] { display: none; }` but bootstrap.min.css set `[hidden] { display: none !important; }` so we also need the `!important` here to be able to override the default hidden behavior on the sphinx rendered scikit-learn.org. See: https://github.com/scikit-learn/scikit-learn/issues/21755 */display: inline-block !important;position: relative;}#sk-container-id-4 div.sk-text-repr-fallback {display: none;}</style><div id=\"sk-container-id-4\" class=\"sk-top-container\"><div class=\"sk-text-repr-fallback\"><pre>LogisticRegression()</pre><b>In a Jupyter environment, please rerun this cell to show the HTML representation or trust the notebook. <br />On GitHub, the HTML representation is unable to render, please try loading this page with nbviewer.org.</b></div><div class=\"sk-container\" hidden><div class=\"sk-item\"><div class=\"sk-estimator sk-toggleable\"><input class=\"sk-toggleable__control sk-hidden--visually\" id=\"sk-estimator-id-4\" type=\"checkbox\" checked><label for=\"sk-estimator-id-4\" class=\"sk-toggleable__label sk-toggleable__label-arrow\">LogisticRegression</label><div class=\"sk-toggleable__content\"><pre>LogisticRegression()</pre></div></div></div></div></div>"
          },
          "metadata": {}
        }
      ],
      "execution_count": 48
    },
    {
      "id": "c22f32b0-1f3d-4f55-af3e-d8a9d70cf967",
      "cell_type": "code",
      "source": "clf = DecisionTreeClassifier()\nclf.fit(exercicio14a, exercicio14b)",
      "metadata": {
        "trusted": true
      },
      "outputs": [
        {
          "execution_count": 49,
          "output_type": "execute_result",
          "data": {
            "text/plain": "DecisionTreeClassifier()",
            "text/html": "<style>#sk-container-id-5 {color: black;}#sk-container-id-5 pre{padding: 0;}#sk-container-id-5 div.sk-toggleable {background-color: white;}#sk-container-id-5 label.sk-toggleable__label {cursor: pointer;display: block;width: 100%;margin-bottom: 0;padding: 0.3em;box-sizing: border-box;text-align: center;}#sk-container-id-5 label.sk-toggleable__label-arrow:before {content: \"▸\";float: left;margin-right: 0.25em;color: #696969;}#sk-container-id-5 label.sk-toggleable__label-arrow:hover:before {color: black;}#sk-container-id-5 div.sk-estimator:hover label.sk-toggleable__label-arrow:before {color: black;}#sk-container-id-5 div.sk-toggleable__content {max-height: 0;max-width: 0;overflow: hidden;text-align: left;background-color: #f0f8ff;}#sk-container-id-5 div.sk-toggleable__content pre {margin: 0.2em;color: black;border-radius: 0.25em;background-color: #f0f8ff;}#sk-container-id-5 input.sk-toggleable__control:checked~div.sk-toggleable__content {max-height: 200px;max-width: 100%;overflow: auto;}#sk-container-id-5 input.sk-toggleable__control:checked~label.sk-toggleable__label-arrow:before {content: \"▾\";}#sk-container-id-5 div.sk-estimator input.sk-toggleable__control:checked~label.sk-toggleable__label {background-color: #d4ebff;}#sk-container-id-5 div.sk-label input.sk-toggleable__control:checked~label.sk-toggleable__label {background-color: #d4ebff;}#sk-container-id-5 input.sk-hidden--visually {border: 0;clip: rect(1px 1px 1px 1px);clip: rect(1px, 1px, 1px, 1px);height: 1px;margin: -1px;overflow: hidden;padding: 0;position: absolute;width: 1px;}#sk-container-id-5 div.sk-estimator {font-family: monospace;background-color: #f0f8ff;border: 1px dotted black;border-radius: 0.25em;box-sizing: border-box;margin-bottom: 0.5em;}#sk-container-id-5 div.sk-estimator:hover {background-color: #d4ebff;}#sk-container-id-5 div.sk-parallel-item::after {content: \"\";width: 100%;border-bottom: 1px solid gray;flex-grow: 1;}#sk-container-id-5 div.sk-label:hover label.sk-toggleable__label {background-color: #d4ebff;}#sk-container-id-5 div.sk-serial::before {content: \"\";position: absolute;border-left: 1px solid gray;box-sizing: border-box;top: 0;bottom: 0;left: 50%;z-index: 0;}#sk-container-id-5 div.sk-serial {display: flex;flex-direction: column;align-items: center;background-color: white;padding-right: 0.2em;padding-left: 0.2em;position: relative;}#sk-container-id-5 div.sk-item {position: relative;z-index: 1;}#sk-container-id-5 div.sk-parallel {display: flex;align-items: stretch;justify-content: center;background-color: white;position: relative;}#sk-container-id-5 div.sk-item::before, #sk-container-id-5 div.sk-parallel-item::before {content: \"\";position: absolute;border-left: 1px solid gray;box-sizing: border-box;top: 0;bottom: 0;left: 50%;z-index: -1;}#sk-container-id-5 div.sk-parallel-item {display: flex;flex-direction: column;z-index: 1;position: relative;background-color: white;}#sk-container-id-5 div.sk-parallel-item:first-child::after {align-self: flex-end;width: 50%;}#sk-container-id-5 div.sk-parallel-item:last-child::after {align-self: flex-start;width: 50%;}#sk-container-id-5 div.sk-parallel-item:only-child::after {width: 0;}#sk-container-id-5 div.sk-dashed-wrapped {border: 1px dashed gray;margin: 0 0.4em 0.5em 0.4em;box-sizing: border-box;padding-bottom: 0.4em;background-color: white;}#sk-container-id-5 div.sk-label label {font-family: monospace;font-weight: bold;display: inline-block;line-height: 1.2em;}#sk-container-id-5 div.sk-label-container {text-align: center;}#sk-container-id-5 div.sk-container {/* jupyter's `normalize.less` sets `[hidden] { display: none; }` but bootstrap.min.css set `[hidden] { display: none !important; }` so we also need the `!important` here to be able to override the default hidden behavior on the sphinx rendered scikit-learn.org. See: https://github.com/scikit-learn/scikit-learn/issues/21755 */display: inline-block !important;position: relative;}#sk-container-id-5 div.sk-text-repr-fallback {display: none;}</style><div id=\"sk-container-id-5\" class=\"sk-top-container\"><div class=\"sk-text-repr-fallback\"><pre>DecisionTreeClassifier()</pre><b>In a Jupyter environment, please rerun this cell to show the HTML representation or trust the notebook. <br />On GitHub, the HTML representation is unable to render, please try loading this page with nbviewer.org.</b></div><div class=\"sk-container\" hidden><div class=\"sk-item\"><div class=\"sk-estimator sk-toggleable\"><input class=\"sk-toggleable__control sk-hidden--visually\" id=\"sk-estimator-id-5\" type=\"checkbox\" checked><label for=\"sk-estimator-id-5\" class=\"sk-toggleable__label sk-toggleable__label-arrow\">DecisionTreeClassifier</label><div class=\"sk-toggleable__content\"><pre>DecisionTreeClassifier()</pre></div></div></div></div></div>"
          },
          "metadata": {}
        }
      ],
      "execution_count": 49
    },
    {
      "id": "cc0bd132-3ab3-4447-b444-9023bfafdeb6",
      "cell_type": "code",
      "source": "svc = SVC()\nsvc.fit(exercicio14a, exercicio14b)",
      "metadata": {
        "trusted": true
      },
      "outputs": [
        {
          "name": "stderr",
          "text": "/lib/python3.11/site-packages/sklearn/utils/validation.py:1183: DataConversionWarning: A column-vector y was passed when a 1d array was expected. Please change the shape of y to (n_samples, ), for example using ravel().\n  y = column_or_1d(y, warn=True)\n",
          "output_type": "stream"
        },
        {
          "execution_count": 50,
          "output_type": "execute_result",
          "data": {
            "text/plain": "SVC()",
            "text/html": "<style>#sk-container-id-6 {color: black;}#sk-container-id-6 pre{padding: 0;}#sk-container-id-6 div.sk-toggleable {background-color: white;}#sk-container-id-6 label.sk-toggleable__label {cursor: pointer;display: block;width: 100%;margin-bottom: 0;padding: 0.3em;box-sizing: border-box;text-align: center;}#sk-container-id-6 label.sk-toggleable__label-arrow:before {content: \"▸\";float: left;margin-right: 0.25em;color: #696969;}#sk-container-id-6 label.sk-toggleable__label-arrow:hover:before {color: black;}#sk-container-id-6 div.sk-estimator:hover label.sk-toggleable__label-arrow:before {color: black;}#sk-container-id-6 div.sk-toggleable__content {max-height: 0;max-width: 0;overflow: hidden;text-align: left;background-color: #f0f8ff;}#sk-container-id-6 div.sk-toggleable__content pre {margin: 0.2em;color: black;border-radius: 0.25em;background-color: #f0f8ff;}#sk-container-id-6 input.sk-toggleable__control:checked~div.sk-toggleable__content {max-height: 200px;max-width: 100%;overflow: auto;}#sk-container-id-6 input.sk-toggleable__control:checked~label.sk-toggleable__label-arrow:before {content: \"▾\";}#sk-container-id-6 div.sk-estimator input.sk-toggleable__control:checked~label.sk-toggleable__label {background-color: #d4ebff;}#sk-container-id-6 div.sk-label input.sk-toggleable__control:checked~label.sk-toggleable__label {background-color: #d4ebff;}#sk-container-id-6 input.sk-hidden--visually {border: 0;clip: rect(1px 1px 1px 1px);clip: rect(1px, 1px, 1px, 1px);height: 1px;margin: -1px;overflow: hidden;padding: 0;position: absolute;width: 1px;}#sk-container-id-6 div.sk-estimator {font-family: monospace;background-color: #f0f8ff;border: 1px dotted black;border-radius: 0.25em;box-sizing: border-box;margin-bottom: 0.5em;}#sk-container-id-6 div.sk-estimator:hover {background-color: #d4ebff;}#sk-container-id-6 div.sk-parallel-item::after {content: \"\";width: 100%;border-bottom: 1px solid gray;flex-grow: 1;}#sk-container-id-6 div.sk-label:hover label.sk-toggleable__label {background-color: #d4ebff;}#sk-container-id-6 div.sk-serial::before {content: \"\";position: absolute;border-left: 1px solid gray;box-sizing: border-box;top: 0;bottom: 0;left: 50%;z-index: 0;}#sk-container-id-6 div.sk-serial {display: flex;flex-direction: column;align-items: center;background-color: white;padding-right: 0.2em;padding-left: 0.2em;position: relative;}#sk-container-id-6 div.sk-item {position: relative;z-index: 1;}#sk-container-id-6 div.sk-parallel {display: flex;align-items: stretch;justify-content: center;background-color: white;position: relative;}#sk-container-id-6 div.sk-item::before, #sk-container-id-6 div.sk-parallel-item::before {content: \"\";position: absolute;border-left: 1px solid gray;box-sizing: border-box;top: 0;bottom: 0;left: 50%;z-index: -1;}#sk-container-id-6 div.sk-parallel-item {display: flex;flex-direction: column;z-index: 1;position: relative;background-color: white;}#sk-container-id-6 div.sk-parallel-item:first-child::after {align-self: flex-end;width: 50%;}#sk-container-id-6 div.sk-parallel-item:last-child::after {align-self: flex-start;width: 50%;}#sk-container-id-6 div.sk-parallel-item:only-child::after {width: 0;}#sk-container-id-6 div.sk-dashed-wrapped {border: 1px dashed gray;margin: 0 0.4em 0.5em 0.4em;box-sizing: border-box;padding-bottom: 0.4em;background-color: white;}#sk-container-id-6 div.sk-label label {font-family: monospace;font-weight: bold;display: inline-block;line-height: 1.2em;}#sk-container-id-6 div.sk-label-container {text-align: center;}#sk-container-id-6 div.sk-container {/* jupyter's `normalize.less` sets `[hidden] { display: none; }` but bootstrap.min.css set `[hidden] { display: none !important; }` so we also need the `!important` here to be able to override the default hidden behavior on the sphinx rendered scikit-learn.org. See: https://github.com/scikit-learn/scikit-learn/issues/21755 */display: inline-block !important;position: relative;}#sk-container-id-6 div.sk-text-repr-fallback {display: none;}</style><div id=\"sk-container-id-6\" class=\"sk-top-container\"><div class=\"sk-text-repr-fallback\"><pre>SVC()</pre><b>In a Jupyter environment, please rerun this cell to show the HTML representation or trust the notebook. <br />On GitHub, the HTML representation is unable to render, please try loading this page with nbviewer.org.</b></div><div class=\"sk-container\" hidden><div class=\"sk-item\"><div class=\"sk-estimator sk-toggleable\"><input class=\"sk-toggleable__control sk-hidden--visually\" id=\"sk-estimator-id-6\" type=\"checkbox\" checked><label for=\"sk-estimator-id-6\" class=\"sk-toggleable__label sk-toggleable__label-arrow\">SVC</label><div class=\"sk-toggleable__content\"><pre>SVC()</pre></div></div></div></div></div>"
          },
          "metadata": {}
        }
      ],
      "execution_count": 50
    },
    {
      "id": "5e529e87-f05a-4507-8d8f-0b1fc5f35399",
      "cell_type": "code",
      "source": "y_regressao_smote = logreg.predict(exercicio11b)\nexercicio15a = round(f1_score(y_teste, y_regressao_smote), 3)\nexercicio15a",
      "metadata": {
        "id": "5e529e87-f05a-4507-8d8f-0b1fc5f35399",
        "trusted": true
      },
      "outputs": [
        {
          "execution_count": 51,
          "output_type": "execute_result",
          "data": {
            "text/plain": "0.59"
          },
          "metadata": {}
        }
      ],
      "execution_count": 51
    },
    {
      "id": "9fb6ef9b-979e-40bc-aad7-cbe9a6ff9cd6",
      "cell_type": "code",
      "source": "y_decision_smote = clf.predict(exercicio11b)\nexercicio15b = round(f1_score(y_teste, y_decision_smote), 3)\nexercicio15b",
      "metadata": {
        "trusted": true
      },
      "outputs": [
        {
          "execution_count": 52,
          "output_type": "execute_result",
          "data": {
            "text/plain": "0.576"
          },
          "metadata": {}
        }
      ],
      "execution_count": 52
    },
    {
      "id": "f2d43431-8851-4f39-aad3-d385cd93f603",
      "cell_type": "code",
      "source": "y_svc_smote = clf.predict(exercicio11b)\nexercicio15c = round(f1_score(y_teste, y_svc_smote), 3)\nexercicio15c",
      "metadata": {
        "id": "f2d43431-8851-4f39-aad3-d385cd93f603",
        "trusted": true
      },
      "outputs": [
        {
          "execution_count": 53,
          "output_type": "execute_result",
          "data": {
            "text/plain": "0.576"
          },
          "metadata": {}
        }
      ],
      "execution_count": 53
    },
    {
      "id": "50082933-ccd9-4f30-8861-8b858f811b9d",
      "cell_type": "code",
      "source": "exercicio15d = exercicio15a",
      "metadata": {
        "trusted": true
      },
      "outputs": [],
      "execution_count": 54
    },
    {
      "id": "1beb478a-263f-49cd-a489-cd544c412075",
      "cell_type": "code",
      "source": "matriz_smote = confusion_matrix(y_teste, y_regressao_smote)\nmatriz_smote",
      "metadata": {
        "trusted": true
      },
      "outputs": [
        {
          "execution_count": 55,
          "output_type": "execute_result",
          "data": {
            "text/plain": "array([[1012,  400],\n       [ 145,  392]], dtype=int64)"
          },
          "metadata": {}
        }
      ],
      "execution_count": 55
    },
    {
      "id": "9e427309-f9ae-47bb-bef2-2aff491d24d5",
      "cell_type": "code",
      "source": "tn, exercicio15e, exercicio15f, tp = matriz_smote.ravel()",
      "metadata": {
        "trusted": true
      },
      "outputs": [],
      "execution_count": 56
    },
    {
      "id": "bf138664",
      "cell_type": "markdown",
      "source": "# Boletim de soluções",
      "metadata": {
        "id": "bf138664"
      }
    },
    {
      "id": "89e312ff",
      "cell_type": "code",
      "source": "# importar bibliotecas para geração dos artefatos\nimport pickle",
      "metadata": {
        "id": "89e312ff",
        "trusted": true
      },
      "outputs": [],
      "execution_count": 57
    },
    {
      "id": "cba1046b",
      "cell_type": "code",
      "source": "# Favor não alterar esta célula\n# verificar a existência das variáveis e gerar artefatos para verificação\nif 'exercicio1' in globals():\n    print('DataFrame exercicio1 localizado. Ele poderá ser enviado para validação.')\n    with open(f'{chaveF}_exercicio1.pkl','wb') as f:\n        pickle.dump(exercicio1, f)\nelse:\n    print('O exercício 1 não tem condições de ser avaliado.')\n\nif 'exercicio2' in globals():\n    print('DataFrame exercicio2 localizado. Ele poderá ser enviado para validação.')\n    with open(f'{chaveF}_exercicio2.pkl','wb') as f:\n        pickle.dump(exercicio2, f)\nelse:\n    print('O exercício 2 não tem condições de ser avaliado.')\n\nif 'exercicio3' in globals():\n    print('DataFrame exercicio3 localizado. Ele poderá ser enviado para validação.')\n    with open(f'{chaveF}_exercicio3.pkl','wb') as f:\n        pickle.dump(exercicio3, f)\nelse:\n    print('O exercício 3 não tem condições de ser avaliado.')\n\nif 'exercicio4' in globals():\n    print('DataFrame exercicio4 localizado. Ele poderá ser enviado para validação.')\n    with open(f'{chaveF}_exercicio4.pkl','wb') as f:\n        pickle.dump(exercicio4, f)\nelse:\n    print('O exercício 4 não tem condições de ser avaliado.')\n\nif 'exercicio5' in globals():\n    print('DataFrame exercicio5 localizado. Ele poderá ser enviado para validação.')\n    with open(f'{chaveF}_exercicio5.pkl','wb') as f:\n        pickle.dump(exercicio5, f)\nelse:\n    print('O exercício 5 não tem condições de ser avaliado.')\n\nif 'exercicio6' in globals():\n    print('DataFrame exercicio6 localizado. Ele poderá ser enviado para validação.')\n    with open(f'{chaveF}_exercicio6.pkl','wb') as f:\n        pickle.dump(exercicio6, f)\nelse:\n    print('O exercício 6 não tem condições de ser avaliado.')\n\nif 'exercicio7' in globals():\n    print('DataFrame exercicio7 localizado. Ele poderá ser enviado para validação.')\n    with open(f'{chaveF}_exercicio7.pkl','wb') as f:\n        pickle.dump(exercicio7, f)\nelse:\n    print('O exercício 7 não tem condições de ser avaliado.')\n\nif 'exercicio8' in globals():\n    print('DataFrame exercicio8 localizado. Ele poderá ser enviado para validação.')\n    with open(f'{chaveF}_exercicio8.pkl','wb') as f:\n        pickle.dump(exercicio8, f)\nelse:\n    print('O exercício 8 não tem condições de ser avaliado.')\n\nif 'exercicio9' in globals():\n    print('DataFrame exercicio9 localizado. Ele poderá ser enviado para validação.')\n    with open(f'{chaveF}_exercicio9.pkl','wb') as f:\n        pickle.dump(exercicio9, f)\nelse:\n    print('O exercício 9 não tem condições de ser avaliado.')\n\nif 'exercicio10a' in globals():\n    print('DataFrame exercicio10a localizado. Ele poderá ser enviado para validação.')\n    with open(f'{chaveF}_exercicio10a.pkl','wb') as f:\n        pickle.dump(exercicio10a, f)\nelse:\n    print('O exercício 10a não tem condições de ser avaliado.')\n\nif 'exercicio10b' in globals():\n    print('DataFrame exercicio10b localizado. Ele poderá ser enviado para validação.')\n    with open(f'{chaveF}_exercicio10b.pkl','wb') as f:\n        pickle.dump(exercicio10b, f)\nelse:\n    print('O exercício 10b não tem condições de ser avaliado.')\n\nif 'exercicio10c' in globals():\n    print('DataFrame exercicio10c localizado. Ele poderá ser enviado para validação.')\n    with open(f'{chaveF}_exercicio10c.pkl','wb') as f:\n        pickle.dump(exercicio10c, f)\nelse:\n    print('O exercício 10c não tem condições de ser avaliado.')\n\nif 'exercicio11a' in globals():\n    print('DataFrame exercicio11a localizado. Ele poderá ser enviado para validação.')\n    with open(f'{chaveF}_exercicio11a.pkl','wb') as f:\n        pickle.dump(exercicio11a, f)\nelse:\n    print('O exercicio11a não tem condições de ser avaliado.')\n\nif 'exercicio11b' in globals():\n    print('DataFrame exercicio11b localizado. Ele poderá ser enviado para validação.')\n    with open(f'{chaveF}_exercicio11b.pkl','wb') as f:\n        pickle.dump(exercicio11b, f)\nelse:\n    print('O exercicio11b não tem condições de ser avaliado.')\n\nif 'exercicio11c' in globals():\n    print('DataFrame exercicio11c localizado. Ele poderá ser enviado para validação.')\n    with open(f'{chaveF}_exercicio11c.pkl','wb') as f:\n        pickle.dump(exercicio11c, f)\nelse:\n    print('O exercicio11c não tem condições de ser avaliado.')\n\nif 'exercicio11d' in globals():\n    print('DataFrame exercicio11d localizado. Ele poderá ser enviado para validação.')\n    with open(f'{chaveF}_exercicio11d.pkl','wb') as f:\n        pickle.dump(exercicio11d, f)\nelse:\n    print('O exercicio11d não tem condições de ser avaliado.')\n\n\nif 'exercicio12a' in globals():\n    print('Variável exercicio12a localizada. Ele poderá ser enviado para validação.')\n    with open(f'{chaveF}_exercicio12a.pkl','wb') as f:\n        pickle.dump(exercicio12a, f)\nelse:\n    print('O exercicio12a não tem condições de ser avaliado.')\n\nif 'exercicio12b' in globals():\n    print('Variável exercicio12b localizada. Ele poderá ser enviado para validação.')\n    with open(f'{chaveF}_exercicio12b.pkl','wb') as f:\n        pickle.dump(exercicio12b, f)\nelse:\n    print('O exercicio12b não tem condições de ser avaliado.')\n\nif 'exercicio12c' in globals():\n    print('Variável exercicio12c localizada. Ele poderá ser enviado para validação.')\n    with open(f'{chaveF}_exercicio12c.pkl','wb') as f:\n        pickle.dump(exercicio12c, f)\nelse:\n    print('O exercicio12c não tem condições de ser avaliado.')\n\nif 'exercicio12d' in globals():\n    print('Variável exercicio12d localizada. Ele poderá ser enviado para validação.')\n    with open(f'{chaveF}_exercicio12d.pkl','wb') as f:\n        pickle.dump(exercicio12d, f)\nelse:\n    print('O exercicio12d não tem condições de ser avaliado.')\n\nif 'exercicio12e' in globals():\n    print('Variável exercicio12e localizada. Ele poderá ser enviado para validação.')\n    with open(f'{chaveF}_exercicio12e.pkl','wb') as f:\n        pickle.dump(exercicio12e, f)\nelse:\n    print('O exercicio12e não tem condições de ser avaliado.')\n\nif 'exercicio12f' in globals():\n    print('exercicio12f localizado. Ele poderá ser enviado para validação.')\n    with open(f'{chaveF}_exercicio12f.pkl','wb') as f:\n        pickle.dump(exercicio12f, f)\nelse:\n    print('O exercicio12f não tem condições de ser avaliado.')\n\nif 'exercicio12g' in globals():\n    print('exercicio12g localizado. Ele poderá ser enviado para validação.')\n    with open(f'{chaveF}_exercicio12g.pkl','wb') as f:\n        pickle.dump(exercicio12g, f)\nelse:\n    print('exercicio12g não tem condições de ser avaliado.')\n\n\nif 'exercicio13a' in globals():\n    print('exercicio13a localizado. Ele poderá ser enviado para validação.')\n    with open(f'{chaveF}_exercicio13a.pkl','wb') as f:\n        pickle.dump(exercicio13a, f)\nelse:\n    print('O exercicio13a não tem condições de ser avaliado.')\n\nif 'exercicio13b' in globals():\n    print('exercicio13b localizado. Ele poderá ser enviado para validação.')\n    with open(f'{chaveF}_exercicio13b.pkl','wb') as f:\n        pickle.dump(exercicio13b, f)\nelse:\n    print('O exercicio13b não tem condições de ser avaliado.')\n\nif 'exercicio13c' in globals():\n    print('exercicio13c localizado. Ele poderá ser enviado para validação.')\n    with open(f'{chaveF}_exercicio13c.pkl','wb') as f:\n        pickle.dump(exercicio13c, f)\nelse:\n    print('O exercicio13c não tem condições de ser avaliado.')\n\nif 'smt' in globals():\n    print('Objeto smt localizado. Ele poderá ser enviado para validação.')\n    with open(f'{chaveF}_smt.pkl','wb') as f:\n        pickle.dump(smt, f)\nelse:\n    print('O smt não tem condições de ser avaliado.')\n\nif 'exercicio14a' in globals():\n    print('Objeto exercicio14a localizado. Ele poderá ser enviado para validação.')\n    with open(f'{chaveF}_exercicio14a.pkl','wb') as f:\n        pickle.dump(exercicio14a, f)\nelse:\n    print('O exercicio14a não tem condições de ser avaliado.')\n\nif 'exercicio14b' in globals():\n    print('Objeto exercicio14b localizado. Ele poderá ser enviado para validação.')\n    with open(f'{chaveF}_exercicio14b.pkl','wb') as f:\n        pickle.dump(exercicio14b, f)\nelse:\n    print('O exercicio14b não tem condições de ser avaliado.')\n\nif 'exercicio14c' in globals():\n    print('Objeto exercicio14c localizado. Ele poderá ser enviado para validação.')\n    with open(f'{chaveF}_exercicio14c.pkl','wb') as f:\n        pickle.dump(exercicio14c, f)\nelse:\n    print('O exercicio14c não tem condições de ser avaliado.')\n\nif 'exercicio14d' in globals():\n    print('Objeto exercicio14d localizado. Ele poderá ser enviado para validação.')\n    with open(f'{chaveF}_exercicio14d.pkl','wb') as f:\n        pickle.dump(exercicio14d, f)\nelse:\n    print('O exercicio14d não tem condições de ser avaliado.')\n\nif 'exercicio14e' in globals():\n    print('Objeto exercicio14e localizado. Ele poderá ser enviado para validação.')\n    with open(f'{chaveF}_exercicio14e.pkl','wb') as f:\n        pickle.dump(exercicio14e, f)\nelse:\n    print('O exercicio14e não tem condições de ser avaliado.')\n\nif 'exercicio14f' in globals():\n    print('Objeto exercicio14f localizado. Ele poderá ser enviado para validação.')\n    with open(f'{chaveF}_exercicio14f.pkl','wb') as f:\n        pickle.dump(exercicio14f, f)\nelse:\n    print('O exercicio14f não tem condições de ser avaliado.')\n\nif 'exercicio15a' in globals():\n    print('Objeto exercicio15a localizado. Ele poderá ser enviado para validação.')\n    with open(f'{chaveF}_exercicio15a.pkl','wb') as f:\n        pickle.dump(exercicio15a, f)\nelse:\n    print('O exercicio15a não tem condições de ser avaliado.')\n\nif 'exercicio15b' in globals():\n    print('Objeto exercicio15b localizado. Ele poderá ser enviado para validação.')\n    with open(f'{chaveF}_exercicio15b.pkl','wb') as f:\n        pickle.dump(exercicio15b, f)\nelse:\n    print('O exercicio15b não tem condições de ser avaliado.')\n\nif 'exercicio15c' in globals():\n    print('Objeto exercicio15c localizado. Ele poderá ser enviado para validação.')\n    with open(f'{chaveF}_exercicio15c.pkl','wb') as f:\n        pickle.dump(exercicio15c, f)\nelse:\n    print('O exercicio15c não tem condições de ser avaliado.')\n\nif 'exercicio15d' in globals():\n    print('Objeto exercicio15d localizado. Ele poderá ser enviado para validação.')\n    with open(f'{chaveF}_exercicio15d.pkl','wb') as f:\n        pickle.dump(exercicio15d, f)\nelse:\n    print('O exercicio15d não tem condições de ser avaliado.')\n\nif 'exercicio15e' in globals():\n    print('Objeto exercicio15e localizado. Ele poderá ser enviado para validação.')\n    with open(f'{chaveF}_exercicio15e.pkl','wb') as f:\n        pickle.dump(exercicio15e, f)\nelse:\n    print('O exercicio15e não tem condições de ser avaliado.')\n\nif 'exercicio15f' in globals():\n    print('Objeto exercicio15f localizado. Ele poderá ser enviado para validação.')\n    with open(f'{chaveF}_exercicio15f.pkl','wb') as f:\n        pickle.dump(exercicio15f, f)\nelse:\n    print('O exercicio15f não tem condições de ser avaliado.')\n\nif 'logreg' in globals():\n    print('Variável logreg localizada. Ele poderá ser enviado para validação.')\n    with open(f'{chaveF}_logreg.pkl','wb') as f:\n        pickle.dump(logreg, f)\nelse:\n    print('O logreg não tem condições de ser avaliado.')\n\nif 'clf' in globals():\n    print('Variável clf localizada. Ele poderá ser enviado para validação.')\n    with open(f'{chaveF}_clf.pkl','wb') as f:\n        pickle.dump(clf, f)\nelse:\n    print('O clf não tem condições de ser avaliado.')\n\nif 'svc' in globals():\n    print('Variável svc localizada. Ele poderá ser enviado para validação.')\n    with open(f'{chaveF}_svc.pkl','wb') as f:\n        pickle.dump(svc, f)\nelse:\n    print('O svc não tem condições de ser avaliado.')\n    ",
      "metadata": {
        "id": "cba1046b",
        "trusted": true
      },
      "outputs": [
        {
          "name": "stdout",
          "text": "DataFrame exercicio1 localizado. Ele poderá ser enviado para validação.\nDataFrame exercicio2 localizado. Ele poderá ser enviado para validação.\nDataFrame exercicio3 localizado. Ele poderá ser enviado para validação.\nDataFrame exercicio4 localizado. Ele poderá ser enviado para validação.\nDataFrame exercicio5 localizado. Ele poderá ser enviado para validação.\nDataFrame exercicio6 localizado. Ele poderá ser enviado para validação.\nDataFrame exercicio7 localizado. Ele poderá ser enviado para validação.\nDataFrame exercicio8 localizado. Ele poderá ser enviado para validação.\nDataFrame exercicio9 localizado. Ele poderá ser enviado para validação.\nDataFrame exercicio10a localizado. Ele poderá ser enviado para validação.\nDataFrame exercicio10b localizado. Ele poderá ser enviado para validação.\nDataFrame exercicio10c localizado. Ele poderá ser enviado para validação.\nDataFrame exercicio11a localizado. Ele poderá ser enviado para validação.\nDataFrame exercicio11b localizado. Ele poderá ser enviado para validação.\nDataFrame exercicio11c localizado. Ele poderá ser enviado para validação.\nDataFrame exercicio11d localizado. Ele poderá ser enviado para validação.\nVariável exercicio12a localizada. Ele poderá ser enviado para validação.\nVariável exercicio12b localizada. Ele poderá ser enviado para validação.\nVariável exercicio12c localizada. Ele poderá ser enviado para validação.\nVariável exercicio12d localizada. Ele poderá ser enviado para validação.\nVariável exercicio12e localizada. Ele poderá ser enviado para validação.\nexercicio12f localizado. Ele poderá ser enviado para validação.\nexercicio12g localizado. Ele poderá ser enviado para validação.\nexercicio13a localizado. Ele poderá ser enviado para validação.\nexercicio13b localizado. Ele poderá ser enviado para validação.\nexercicio13c localizado. Ele poderá ser enviado para validação.\nObjeto smt localizado. Ele poderá ser enviado para validação.\nObjeto exercicio14a localizado. Ele poderá ser enviado para validação.\nObjeto exercicio14b localizado. Ele poderá ser enviado para validação.\nObjeto exercicio14c localizado. Ele poderá ser enviado para validação.\nObjeto exercicio14d localizado. Ele poderá ser enviado para validação.\nObjeto exercicio14e localizado. Ele poderá ser enviado para validação.\nObjeto exercicio14f localizado. Ele poderá ser enviado para validação.\nObjeto exercicio15a localizado. Ele poderá ser enviado para validação.\nObjeto exercicio15b localizado. Ele poderá ser enviado para validação.\nObjeto exercicio15c localizado. Ele poderá ser enviado para validação.\nObjeto exercicio15d localizado. Ele poderá ser enviado para validação.\nObjeto exercicio15e localizado. Ele poderá ser enviado para validação.\nObjeto exercicio15f localizado. Ele poderá ser enviado para validação.\nVariável logreg localizada. Ele poderá ser enviado para validação.\nVariável clf localizada. Ele poderá ser enviado para validação.\nVariável svc localizada. Ele poderá ser enviado para validação.\n",
          "output_type": "stream"
        }
      ],
      "execution_count": 58
    },
    {
      "id": "5385211a-bbb2-48ac-8180-0b0ad315ab21",
      "cell_type": "code",
      "source": "",
      "metadata": {
        "trusted": true
      },
      "outputs": [],
      "execution_count": null
    },
    {
      "id": "610577d3-f1bd-4d16-b2c5-715af9bffeb3",
      "cell_type": "code",
      "source": "",
      "metadata": {
        "trusted": true
      },
      "outputs": [],
      "execution_count": null
    }
  ]
}